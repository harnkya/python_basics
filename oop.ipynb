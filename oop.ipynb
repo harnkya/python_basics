{
 "cells": [
  {
   "cell_type": "markdown",
   "metadata": {},
   "source": [
    "# OBJECT ORIENTED PROGRAMMING:\n",
    "### instance=object\n",
    "### methods work over a class\n",
    "### classes start with capital letter\n",
    "### clasees have attributes and methods\n",
    "### we can create a class with \"pass\" keyword \n",
    "### constructor: def _init_(object itself ,attributes) \n",
    "### for object itself we use \"self\" or \"this\" keyword"
   ]
  },
  {
   "cell_type": "code",
   "execution_count": 18,
   "metadata": {},
   "outputs": [
    {
     "name": "stdout",
     "output_type": "stream",
     "text": [
      "constructor worked\n",
      "constructor worked\n",
      "<__main__.Person object at 0x0000023AC23C6550>\n",
      "Harun\n",
      "2005\n",
      "<class '__main__.Person'>\n",
      "Hello, I am Harun\n",
      "I am 18 years old\n"
     ]
    }
   ],
   "source": [
    "# creating a class\n",
    "class Person:\n",
    "\n",
    "    kind=\"Human\" # we can define attributes without constructor\n",
    "\n",
    "    # creating constructor:\n",
    "    def __init__(self,name,year):  # we can define attributes in a constructor\n",
    "        self.name=name\n",
    "        self.year=year\n",
    "        print(\"constructor worked\")  # to see constructor is working\n",
    "\n",
    "    # DEFINING METHOD:\n",
    "    def introduction(self): # instance method\n",
    "        print(f\"Hello, I am {self.name}\")\n",
    "\n",
    "    def calculate_age(this):\n",
    "        return 2023-this.year\n",
    "        \n",
    "\n",
    "p1=Person(\"Harun\",2003)\n",
    "\n",
    "p2=Person(name=\"Yağmur\", year=2004) # we can define objects by giving parameters' names\n",
    "\n",
    "\n",
    "\n",
    "print(p1)\n",
    "print(p1.name) # we can get any attribute of object\n",
    "\n",
    "p2.year=2005   # updating attributes\n",
    "print(p2.year)\n",
    "print(type(p1))\n",
    "\n",
    "p1.introduction()\n",
    "\n",
    "print(f\"I am {p2.calculate_age()} years old\")\n",
    "\n",
    "# creating constructor\n",
    "\n"
   ]
  },
  {
   "cell_type": "code",
   "execution_count": 65,
   "metadata": {},
   "outputs": [
    {
     "name": "stdout",
     "output_type": "stream",
     "text": [
      "18.84\n"
     ]
    },
    {
     "data": {
      "text/plain": [
       "28.26"
      ]
     },
     "execution_count": 65,
     "metadata": {},
     "output_type": "execute_result"
    }
   ],
   "source": [
    "class Circle:\n",
    "    pi=3.14\n",
    "\n",
    "    def __init__(this,radius=1):  # we can assign default values to atributes.\n",
    "        this.radius=radius\n",
    "\n",
    "    def calculate_circumference(self):\n",
    "        circumference= 2* self.pi* self.radius\n",
    "        return circumference\n",
    "    \n",
    "    def calculate_area(this):\n",
    "        return this.pi* (this.radius**2)\n",
    "\n",
    "c1= Circle(3)\n",
    "print(c1.calculate_circumference())\n",
    "c1.calculate_area()\n",
    "\n",
    "\n",
    "    \n",
    "\n",
    "            "
   ]
  },
  {
   "cell_type": "markdown",
   "metadata": {},
   "source": [
    "# INHERITANCE:\n",
    "### Sub_class(Main_class)"
   ]
  },
  {
   "cell_type": "code",
   "execution_count": 1,
   "metadata": {},
   "outputs": [
    {
     "name": "stdout",
     "output_type": "stream",
     "text": [
      "Person created.\n",
      "student created.\n",
      "I am a student\n",
      "Person created.\n",
      "I am a math teacher\n"
     ]
    }
   ],
   "source": [
    "class Person():\n",
    "    def __init__(self, fname, lname):\n",
    "        self.fname = fname\n",
    "        self.lname = lname\n",
    "        print(\"Person created.\")\n",
    "\n",
    "    def who_am_I(this):\n",
    "        print(\"I am a person\")\n",
    "\n",
    "\n",
    "class Student(Person):\n",
    "    def __init__(self, fname, lname, number):\n",
    "        self.student_number = number\n",
    "\n",
    "        # if we want to use class Person's constructor:\n",
    "        Person.__init__(self, fname, lname,)\n",
    "        print(\"student created.\")\n",
    "\n",
    "    # OVERRIDING:\n",
    "\n",
    "    def who_am_I(this):\n",
    "        print(\"I am a student\")\n",
    "\n",
    "\n",
    "class Teacher(Person):\n",
    "    def __init__(this, fname, lname, branch):\n",
    "        this.branche = branch\n",
    "        super().__init__(fname, lname)   # the \"super()\" method does not require \"self\"\n",
    "\n",
    "    # OVERRIDING\n",
    "    def who_am_I(self):\n",
    "        print(f\"I am a {self.branche} teacher\")\n",
    "\n",
    "\n",
    "s1 = Student(\"Harun\", \"Kaya\", 674)\n",
    "s1.who_am_I()  # sub class can reach super class's methods.\n",
    "t1 = Teacher(\"xyz\", \"abc\", \"math\")\n",
    "t1.who_am_I()"
   ]
  },
  {
   "cell_type": "markdown",
   "metadata": {},
   "source": [
    "# DUNDER METHODS: (Double Under Score Methods)\n",
    "### dunder methods are built-in methods. they work when a class created.\n",
    "### dir() method gives us everything about the object and its class"
   ]
  },
  {
   "cell_type": "code",
   "execution_count": null,
   "metadata": {},
   "outputs": [],
   "source": [
    "s1.__dir__()"
   ]
  },
  {
   "cell_type": "markdown",
   "metadata": {},
   "source": [
    "## repr(): method REPRESENTS the location of object in memory;"
   ]
  },
  {
   "cell_type": "code",
   "execution_count": 13,
   "metadata": {},
   "outputs": [],
   "source": [
    "class Try():\n",
    "    def __init__(self):\n",
    "        pass\n",
    "\n",
    "t1=Try()\n"
   ]
  },
  {
   "cell_type": "code",
   "execution_count": 24,
   "metadata": {},
   "outputs": [
    {
     "data": {
      "text/plain": [
       "<__main__.Try at 0x2a7278f7e50>"
      ]
     },
     "execution_count": 24,
     "metadata": {},
     "output_type": "execute_result"
    }
   ],
   "source": [
    "t1"
   ]
  },
  {
   "cell_type": "code",
   "execution_count": 20,
   "metadata": {},
   "outputs": [],
   "source": [
    "class Try():\n",
    "    def __init__(self):\n",
    "        pass\n",
    "\n",
    "    def __repr__(self):\n",
    "        return \"etnhteojn\"\n",
    "    "
   ]
  },
  {
   "cell_type": "code",
   "execution_count": 23,
   "metadata": {},
   "outputs": [
    {
     "data": {
      "text/plain": [
       "<__main__.Try at 0x2a7278f7e50>"
      ]
     },
     "execution_count": 23,
     "metadata": {},
     "output_type": "execute_result"
    }
   ],
   "source": [
    "t1"
   ]
  },
  {
   "cell_type": "code",
   "execution_count": null,
   "metadata": {},
   "outputs": [],
   "source": []
  }
 ],
 "metadata": {
  "kernelspec": {
   "display_name": "Python 3",
   "language": "python",
   "name": "python3"
  },
  "language_info": {
   "codemirror_mode": {
    "name": "ipython",
    "version": 3
   },
   "file_extension": ".py",
   "mimetype": "text/x-python",
   "name": "python",
   "nbconvert_exporter": "python",
   "pygments_lexer": "ipython3",
   "version": "3.11.4"
  },
  "orig_nbformat": 4
 },
 "nbformat": 4,
 "nbformat_minor": 2
}
