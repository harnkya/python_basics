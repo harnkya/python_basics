{
 "cells": [
  {
   "cell_type": "markdown",
   "metadata": {},
   "source": [
    "#                                              FOR LOOP:\n",
    "## Some examples:"
   ]
  },
  {
   "cell_type": "code",
   "execution_count": 4,
   "metadata": {},
   "outputs": [
    {
     "name": "stdout",
     "output_type": "stream",
     "text": [
      "1\n",
      "2\n",
      "3\n",
      "4\n",
      "5\n"
     ]
    }
   ],
   "source": [
    "list = [1, 2, 3, 4, 5]  # usage\n",
    "\n",
    "for i in list:\n",
    "    print(i)"
   ]
  },
  {
   "cell_type": "code",
   "execution_count": 5,
   "metadata": {},
   "outputs": [
    {
     "name": "stdout",
     "output_type": "stream",
     "text": [
      "My name is Ali\n",
      "My name is Veli\n",
      "My name is Ahmet\n"
     ]
    }
   ],
   "source": [
    "names = [\"Ali\", \"Veli\", \"Ahmet\"]\n",
    "\n",
    "for i in names:\n",
    "    print(f\"My name is {i}\")"
   ]
  },
  {
   "cell_type": "code",
   "execution_count": 11,
   "metadata": {},
   "outputs": [
    {
     "name": "stdout",
     "output_type": "stream",
     "text": [
      "1\n",
      "2\n",
      "5\n",
      "6\n",
      "1 2\n",
      "2 6\n",
      "5 9\n",
      "6 2\n"
     ]
    }
   ],
   "source": [
    "tuple = [(1, 2), (2, 6), (5, 9), (6, 2)]\n",
    "\n",
    "for a, b in tuple:      # printing just first elements of multidimensional list\n",
    "    print(a)\n",
    "\n",
    "for a, b in tuple:\n",
    "    print(a, b)"
   ]
  },
  {
   "cell_type": "code",
   "execution_count": 9,
   "metadata": {},
   "outputs": [
    {
     "name": "stdout",
     "output_type": "stream",
     "text": [
      "k1\n",
      "k2\n",
      "k3\n",
      "k4\n",
      "('k1', 1)\n",
      "('k2', 2)\n",
      "('k3', 3)\n",
      "('k4', 4)\n"
     ]
    }
   ],
   "source": [
    "dictionary = {\"k1\": 1, \"k2\": 2, \"k3\": 3, \"k4\": 4}\n",
    "\n",
    "# the difference of the same method between tuple and dictionary type.\n",
    "for i in dictionary:\n",
    "    print(i)\n",
    "\n",
    "for i in dictionary.items():     # if we want to ptint both key and values.\n",
    "    # .items() method is capable of reaching (key and value)\n",
    "    print(i)"
   ]
  },
  {
   "cell_type": "markdown",
   "metadata": {},
   "source": [
    "#                                                                       practice:"
   ]
  },
  {
   "cell_type": "code",
   "execution_count": 1,
   "metadata": {},
   "outputs": [
    {
     "name": "stdout",
     "output_type": "stream",
     "text": [
      "3\n",
      "9\n",
      "12\n",
      "21\n"
     ]
    }
   ],
   "source": [
    "numbers = [1, 3, 5, 7, 9, 12, 19, 21]\n",
    "# print the multiples of 3:\n",
    "for i in numbers:\n",
    "    if i % 3 == 0:\n",
    "        print(i)"
   ]
  },
  {
   "cell_type": "code",
   "execution_count": 2,
   "metadata": {},
   "outputs": [
    {
     "name": "stdout",
     "output_type": "stream",
     "text": [
      "77\n"
     ]
    },
    {
     "data": {
      "text/plain": [
       "77"
      ]
     },
     "execution_count": 2,
     "metadata": {},
     "output_type": "execute_result"
    }
   ],
   "source": [
    "# find the sum of elements in numbers:\n",
    "total = 0\n",
    "for i in numbers:\n",
    "    total += i\n",
    "print(total)\n",
    "\n",
    "# second way:\n",
    "\n",
    "sum(numbers)"
   ]
  },
  {
   "cell_type": "code",
   "execution_count": 60,
   "metadata": {},
   "outputs": [
    {
     "name": "stdout",
     "output_type": "stream",
     "text": [
      "the square of 1= 1\n",
      "the square of 3= 9\n",
      "the square of 5= 25\n",
      "the square of 7= 49\n",
      "the square of 9= 81\n",
      "the square of 19= 361\n",
      "the square of 21= 441\n"
     ]
    }
   ],
   "source": [
    "# find the squares of odd numbers in list:\n",
    "for i in numbers:\n",
    "    if i % 2 != 0:\n",
    "        print(f\"the square of {i}= {i**2}\")"
   ]
  },
  {
   "cell_type": "code",
   "execution_count": 25,
   "metadata": {},
   "outputs": [
    {
     "name": "stdout",
     "output_type": "stream",
     "text": [
      "Kocaeli\n",
      "İstanbul\n",
      "Ankara\n"
     ]
    }
   ],
   "source": [
    "# find cities which involving at least 5 characters\n",
    "cities = [\"Kocaeli\", \"İstanbul\", \"Ankara\", \"İzmir\", \"Rize\"]\n",
    "for i in cities:\n",
    "    if len(i) > 5:\n",
    "        print(i)"
   ]
  },
  {
   "cell_type": "code",
   "execution_count": 34,
   "metadata": {},
   "outputs": [
    {
     "name": "stdout",
     "output_type": "stream",
     "text": [
      "25000\n"
     ]
    }
   ],
   "source": [
    "# find the sum of product prices'\n",
    "products = [\n",
    "    {\"name\": \"samsung s6\", \"price\": \"3000\"},\n",
    "    {\"name\": \"samsung s7\", \"price\": \"4000\"},\n",
    "    {\"name\": \"samsung s8\", \"price\": \"5000\"},\n",
    "    {\"name\": \"samsung s9\", \"price\": \"6000\"},\n",
    "    {\"name\": \"samsung s10\", \"price\": \"7000\"},\n",
    "]\n",
    "\n",
    "summary = 0\n",
    "for i in products:\n",
    "    summary += int(i[\"price\"])\n",
    "print(sum)"
   ]
  },
  {
   "cell_type": "code",
   "execution_count": 36,
   "metadata": {},
   "outputs": [
    {
     "name": "stdout",
     "output_type": "stream",
     "text": [
      "samsung s6\n",
      "samsung s7\n"
     ]
    }
   ],
   "source": [
    "# find the products which's price is less than 5000\n",
    "\n",
    "for i in products:\n",
    "    if int(i[\"price\"]) < 5000:\n",
    "        print(i[\"name\"])"
   ]
  },
  {
   "cell_type": "markdown",
   "metadata": {},
   "source": [
    "# WHILE:\n",
    "### note: the bool type of empty string is \"False\""
   ]
  },
  {
   "cell_type": "code",
   "execution_count": null,
   "metadata": {},
   "outputs": [],
   "source": [
    "x = 0\n",
    "while x <= 100:\n",
    "    print(x)\n",
    "    x += 1"
   ]
  },
  {
   "cell_type": "markdown",
   "metadata": {},
   "source": [
    "###                                             Practice:\n"
   ]
  },
  {
   "cell_type": "code",
   "execution_count": null,
   "metadata": {},
   "outputs": [],
   "source": [
    "# print the numbers\n",
    "numbers = [1, 3, 5, 7, 9, 12, 19, 21]\n",
    "x = 0\n",
    "while x < len(numbers):\n",
    "    print(numbers[x])\n",
    "    x += 1"
   ]
  },
  {
   "cell_type": "code",
   "execution_count": null,
   "metadata": {},
   "outputs": [],
   "source": [
    "# get the initial and ending values from the user and print all odd numbers between them\n",
    "x = int(input(\"Please enter the initial value: \"))\n",
    "y = int(input(\"Please enter the end value: \"))\n",
    "\n",
    "while x < y:\n",
    "    x += 1\n",
    "    if x % 2 != 0:\n",
    "        print(x)"
   ]
  },
  {
   "cell_type": "code",
   "execution_count": null,
   "metadata": {},
   "outputs": [],
   "source": [
    "# print all numbers between 1 and 100 degressively\n",
    "\n",
    "x = 100\n",
    "y = 1\n",
    "while y < x:\n",
    "    x -= 1\n",
    "    print(x)"
   ]
  },
  {
   "cell_type": "code",
   "execution_count": 7,
   "metadata": {},
   "outputs": [
    {
     "name": "stdout",
     "output_type": "stream",
     "text": [
      "[54, 65, 65, 85, 66]\n"
     ]
    }
   ],
   "source": [
    "# print the numbers that you will take from user ordinally\n",
    "x = 0\n",
    "numbers = []\n",
    "while x < 5:\n",
    "    numbers.append(int(input(\"please enter 5 numbers: \")))\n",
    "    x += 1\n",
    "\n",
    "print(numbers)"
   ]
  },
  {
   "cell_type": "code",
   "execution_count": 3,
   "metadata": {},
   "outputs": [
    {
     "name": "stdout",
     "output_type": "stream",
     "text": [
      "Product name: reger price: 54\n",
      "Product name: wetwr price: 65\n"
     ]
    }
   ],
   "source": [
    "# get the amount of product from the user and hold the data in products list\n",
    "# use the dictionary type\n",
    "# when product adding process is done, print products using while\n",
    "\n",
    "productAmount = int(input(\"Please enter the amount of products: \"))\n",
    "i = 0\n",
    "products = []\n",
    "\n",
    "while i < productAmount:\n",
    "    productName = input(\"Please enter the product name: \")\n",
    "    price = int(input(\"Please enter price: \"))\n",
    "\n",
    "    products.append(\n",
    "        {\"Name\": productName,\n",
    "         \"price\": price}\n",
    "    )\n",
    "\n",
    "    i += 1\n",
    "\n",
    "for x in products:\n",
    "    print(f\"Product name: {x['Name']} price: {x['price']}\")"
   ]
  },
  {
   "cell_type": "markdown",
   "metadata": {},
   "source": [
    "# Break and Continue:\n",
    "### Break: ends the loop\n",
    "### Continue: just ends the instant step of the loop and starts new step."
   ]
  },
  {
   "cell_type": "code",
   "execution_count": 5,
   "metadata": {},
   "outputs": [
    {
     "name": "stdout",
     "output_type": "stream",
     "text": [
      "H\n",
      "r\n",
      "u\n",
      "n\n",
      " \n",
      "H\n"
     ]
    }
   ],
   "source": [
    "name = \"Harun\"\n",
    "for i in name:\n",
    "    if i == 'a':\n",
    "        continue\n",
    "    print(i)\n",
    "\n",
    "print(\" \")\n",
    "\n",
    "name = \"Harun\"\n",
    "for i in name:\n",
    "    if i == 'a':\n",
    "        break\n",
    "    print(i)"
   ]
  },
  {
   "cell_type": "code",
   "execution_count": 6,
   "metadata": {},
   "outputs": [
    {
     "name": "stdout",
     "output_type": "stream",
     "text": [
      "2601\n"
     ]
    }
   ],
   "source": [
    "# the sum off odd numbers between 1-100:\n",
    "\n",
    "index = 0\n",
    "total = 0\n",
    "number = 0\n",
    "while index <= 100:\n",
    "    index += 1\n",
    "    number += 1\n",
    "    if number % 2 == 0:\n",
    "        continue\n",
    "    else:\n",
    "        total += number\n",
    "print(total)"
   ]
  },
  {
   "cell_type": "markdown",
   "metadata": {},
   "source": [
    "# LIST METHODS:\n",
    "### range(a,b,c) = [a,b)= a, a+c, a+2c....\n"
   ]
  },
  {
   "cell_type": "code",
   "execution_count": 7,
   "metadata": {},
   "outputs": [
    {
     "name": "stdout",
     "output_type": "stream",
     "text": [
      "2\n",
      "7\n",
      "12\n",
      "17\n",
      "[5, 10, 15, 20, 25, 30, 35, 40, 45]\n"
     ]
    }
   ],
   "source": [
    "for i in range(2, 20, 5):\n",
    "    print(i)\n",
    "\n",
    "print(list(range(5, 50, 5)))    # list() methods holds the values in a list"
   ]
  },
  {
   "cell_type": "markdown",
   "metadata": {},
   "source": [
    "## Enumerate:\n",
    "### to reach indexes, we use enumerate()"
   ]
  },
  {
   "cell_type": "code",
   "execution_count": 9,
   "metadata": {},
   "outputs": [
    {
     "name": "stdout",
     "output_type": "stream",
     "text": [
      "(0, 'H')\n",
      "(1, 'a')\n",
      "(2, 'r')\n",
      "(3, 'u')\n",
      "(4, 'n')\n",
      "(5, ' ')\n",
      "(6, 'K')\n",
      "(7, 'A')\n",
      "(8, 'Y')\n",
      "(9, 'A')\n",
      " \n",
      "Index: 0, letter: H\n",
      "Index: 1, letter: a\n",
      "Index: 2, letter: r\n",
      "Index: 3, letter: u\n",
      "Index: 4, letter: n\n",
      "Index: 5, letter:  \n",
      "Index: 6, letter: K\n",
      "Index: 7, letter: A\n",
      "Index: 8, letter: Y\n",
      "Index: 9, letter: A\n"
     ]
    }
   ],
   "source": [
    "name = \"Harun KAYA\"\n",
    "for i in enumerate(name):\n",
    "    print(i)\n",
    "print(\" \")\n",
    "\n",
    "for x, y in enumerate(name):   # look at this usage\n",
    "    print(f\"Index: {x}, letter: {y}\")"
   ]
  },
  {
   "cell_type": "markdown",
   "metadata": {},
   "source": [
    "# zip:"
   ]
  },
  {
   "cell_type": "code",
   "execution_count": null,
   "metadata": {},
   "outputs": [],
   "source": [
    "list1 = [1, 2, 3, 4, 5]\n",
    "list2 = [\"a\", \"b\", \"c\", \"d\", \"e\"]\n",
    "list3 = [100, 200, 300, 400, 500]\n",
    "\n",
    "print(list(zip(list1, list2, list3)))   # concatenates lists  basing on indexes\n",
    "\n",
    "for i in list(zip(list1, list2, list3)):\n",
    "    print(i)\n",
    "\n",
    "\n",
    "for a, b, c in list(zip(list1, list2, list3)):\n",
    "    print(a)"
   ]
  },
  {
   "cell_type": "markdown",
   "metadata": {},
   "source": [
    "# LIST COMPREHENSIONS:\n"
   ]
  },
  {
   "cell_type": "code",
   "execution_count": 6,
   "metadata": {},
   "outputs": [
    {
     "name": "stdout",
     "output_type": "stream",
     "text": [
      "[0, 1, 2, 3, 4, 5, 6, 7, 8, 9]\n"
     ]
    }
   ],
   "source": [
    "numbers1= [x for x in range(10)]  # this usage generates a list with loop and holds it in a variable\n",
    "print(numbers1)"
   ]
  },
  {
   "cell_type": "code",
   "execution_count": 1,
   "metadata": {},
   "outputs": [
    {
     "name": "stdout",
     "output_type": "stream",
     "text": [
      "[0, 9, 36, 81]\n",
      "[0, 1, 4, 9, 16, 25, 36, 49, 64, 81, 100, 121]\n"
     ]
    }
   ],
   "source": [
    "# this two usage is the same:\n",
    "numbers2=[x**2 for x in range(12) if x%3==0] \n",
    "print(numbers2)\n",
    "\n",
    "# other:\n",
    "\n",
    "numbers3= []\n",
    "for x in range(12):\n",
    "    numbers3.append(x**2)\n",
    "print(numbers3)   \n"
   ]
  },
  {
   "cell_type": "code",
   "execution_count": 2,
   "metadata": {},
   "outputs": [
    {
     "name": "stdout",
     "output_type": "stream",
     "text": [
      "['i', 'r', 'r', 'e', 's', 'i', 's', 't', 'a', 'b', 'l', 'e']\n"
     ]
    }
   ],
   "source": [
    "letters=\"irresistable\"\n",
    "letterList=[letters for letters in letters]\n",
    "print(letterList)"
   ]
  },
  {
   "cell_type": "code",
   "execution_count": 4,
   "metadata": {},
   "outputs": [
    {
     "data": {
      "text/plain": [
       "['odd', 2, 'odd', 4, 'odd', 6, 'odd', 8, 'odd']"
      ]
     },
     "execution_count": 4,
     "metadata": {},
     "output_type": "execute_result"
    }
   ],
   "source": [
    "results=[ x if x%2==0 else \"odd\" for x in range(1,10)]\n",
    "results\n"
   ]
  },
  {
   "cell_type": "code",
   "execution_count": 6,
   "metadata": {},
   "outputs": [
    {
     "data": {
      "text/plain": [
       "[(0, 0),\n",
       " (0, 1),\n",
       " (0, 2),\n",
       " (0, 3),\n",
       " (1, 0),\n",
       " (1, 1),\n",
       " (1, 2),\n",
       " (1, 3),\n",
       " (2, 0),\n",
       " (2, 1),\n",
       " (2, 2),\n",
       " (2, 3),\n",
       " (3, 0),\n",
       " (3, 1),\n",
       " (3, 2),\n",
       " (3, 3)]"
      ]
     },
     "execution_count": 6,
     "metadata": {},
     "output_type": "execute_result"
    }
   ],
   "source": [
    "numbers=[(x,y) for x in range(4) for y in range(4)]   # loop in loop\n",
    "numbers"
   ]
  },
  {
   "cell_type": "code",
   "execution_count": 1,
   "metadata": {},
   "outputs": [
    {
     "name": "stdout",
     "output_type": "stream",
     "text": [
      "Guess the number\n",
      "22\n",
      "Go down.\n",
      "Go down.\n",
      "Go down.\n",
      "Go down.\n",
      "Go down.\n",
      "You lost!!! Ran out of guesses.\n"
     ]
    }
   ],
   "source": []
  },
  {
   "cell_type": "code",
   "execution_count": null,
   "metadata": {},
   "outputs": [],
   "source": []
  }
 ],
 "metadata": {
  "kernelspec": {
   "display_name": "Python 3",
   "language": "python",
   "name": "python3"
  },
  "language_info": {
   "codemirror_mode": {
    "name": "ipython",
    "version": 3
   },
   "file_extension": ".py",
   "mimetype": "text/x-python",
   "name": "python",
   "nbconvert_exporter": "python",
   "pygments_lexer": "ipython3",
   "version": "3.11.4"
  },
  "orig_nbformat": 4
 },
 "nbformat": 4,
 "nbformat_minor": 2
}
