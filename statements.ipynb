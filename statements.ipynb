{
 "cells": [
  {
   "cell_type": "markdown",
   "metadata": {},
   "source": [
    "#                                                         IF - ELSE STATEMENTS:\n",
    "### An example for the usage of if- else statement:"
   ]
  },
  {
   "cell_type": "code",
   "execution_count": 18,
   "metadata": {},
   "outputs": [
    {
     "name": "stdout",
     "output_type": "stream",
     "text": [
      "Invalid username and password\n"
     ]
    }
   ],
   "source": [
    "usernameCheck = input(\"Enter your username: \") ==\"harun\"\n",
    "passwordCheck = input(\"enter your password: \") ==\"1234\"\n",
    "\n",
    "if usernameCheck and passwordCheck:\n",
    "    print(\"Welcome\")\n",
    "elif usernameCheck==1 and passwordCheck==0:\n",
    "     print(\"Invalid password\")   \n",
    "elif usernameCheck==0 and passwordCheck==1:\n",
    "     print(\"Invalid username\")\n",
    "else:\n",
    "    print(\"Invalid username and password\")               "
   ]
  },
  {
   "cell_type": "code",
   "execution_count": null,
   "metadata": {},
   "outputs": [],
   "source": []
  },
  {
   "cell_type": "code",
   "execution_count": null,
   "metadata": {},
   "outputs": [],
   "source": []
  }
 ],
 "metadata": {
  "kernelspec": {
   "display_name": "Python 3",
   "language": "python",
   "name": "python3"
  },
  "language_info": {
   "codemirror_mode": {
    "name": "ipython",
    "version": 3
   },
   "file_extension": ".py",
   "mimetype": "text/x-python",
   "name": "python",
   "nbconvert_exporter": "python",
   "pygments_lexer": "ipython3",
   "version": "3.11.4"
  },
  "orig_nbformat": 4
 },
 "nbformat": 4,
 "nbformat_minor": 2
}
