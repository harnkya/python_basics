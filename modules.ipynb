{
 "cells": [
  {
   "cell_type": "markdown",
   "metadata": {},
   "source": [
    "# MOUDULES:\n",
    "### \"import\" keyword\n",
    "### modules can be written by the developers of python or 3rd parties. To find the 3rd patry modules visit:PyPI.org\n",
    "### math module's some important methods: factorial, floor, ceil, sqrt... \n",
    "### file names can not be the same as modules"
   ]
  },
  {
   "cell_type": "code",
   "execution_count": null,
   "metadata": {},
   "outputs": [],
   "source": [
    "import math \n",
    "value= dir(math)  # by dir() method, we hold method names about the math class inside the variable \"value\"\n",
    "value               "
   ]
  },
  {
   "cell_type": "code",
   "execution_count": null,
   "metadata": {},
   "outputs": [],
   "source": [
    "import math\n",
    "\n",
    "\n",
    "value2= help(math) # help method gives the documentation of specified method or class\n",
    "value2\n"
   ]
  },
  {
   "cell_type": "markdown",
   "metadata": {},
   "source": [
    "# Importıng a Module:\n",
    "### 1- import module as nick_name"
   ]
  },
  {
   "cell_type": "code",
   "execution_count": null,
   "metadata": {},
   "outputs": [],
   "source": [
    "import math as calculation\n",
    "\n",
    "number= calculation.ceil(5.3)\n",
    "number"
   ]
  },
  {
   "cell_type": "markdown",
   "metadata": {},
   "source": [
    "## 2- from module import *    = imports whole module so, we don't have to use moudule's name anymore\n",
    "### if we want to import just specified methods, we have to type the method name after \"import\" keyword"
   ]
  },
  {
   "cell_type": "code",
   "execution_count": null,
   "metadata": {},
   "outputs": [],
   "source": [
    "from math import *\n",
    "\n",
    "number2= factorial(6)  # we did not type \"math\" to  start of the factorial\n",
    "\n",
    "number2"
   ]
  },
  {
   "cell_type": "code",
   "execution_count": 1,
   "metadata": {},
   "outputs": [
    {
     "name": "stdout",
     "output_type": "stream",
     "text": [
      "6\n"
     ]
    },
    {
     "ename": "NameError",
     "evalue": "name 'factorial' is not defined",
     "output_type": "error",
     "traceback": [
      "\u001b[1;31m---------------------------------------------------------------------------\u001b[0m",
      "\u001b[1;31mNameError\u001b[0m                                 Traceback (most recent call last)",
      "Cell \u001b[1;32mIn[1], line 7\u001b[0m\n\u001b[0;32m      4\u001b[0m value3\u001b[39m=\u001b[39m ceil(\u001b[39m5.8\u001b[39m)\n\u001b[0;32m      5\u001b[0m \u001b[39mprint\u001b[39m(value3)\n\u001b[1;32m----> 7\u001b[0m value4\u001b[39m=\u001b[39mfactorial(\u001b[39m7\u001b[39m)  \u001b[39m# just imported methods works\u001b[39;00m\n\u001b[0;32m      8\u001b[0m \u001b[39mprint\u001b[39m(value4)\n",
      "\u001b[1;31mNameError\u001b[0m: name 'factorial' is not defined"
     ]
    }
   ],
   "source": [
    "# importing specified module:\n",
    "from math import ceil\n",
    "\n",
    "value3= ceil(5.8)\n",
    "print(value3)\n",
    "\n",
    "value4=factorial(7)  # just imported methods works\n",
    "print(value4)\n"
   ]
  },
  {
   "cell_type": "markdown",
   "metadata": {},
   "source": [
    "### random class's methods:\n",
    "### random: imports a random value between [0-1)\n",
    "### uniform: we can specify the begin and end index"
   ]
  },
  {
   "cell_type": "code",
   "execution_count": 6,
   "metadata": {},
   "outputs": [
    {
     "name": "stdout",
     "output_type": "stream",
     "text": [
      "0.805299196347342 34.929139258818886 703\n",
      "yağmur\n"
     ]
    }
   ],
   "source": [
    "import random\n",
    "value5= random.random()\n",
    "\n",
    "value6= random.uniform(5,60)\n",
    "\n",
    "value7=random.randint(123,740) # generates random int number\n",
    "print(value5, value6,value7)\n",
    "\n",
    "my_list=[\"harun\",\"yağmur\",\"arda\",\"merve\"]\n",
    "name= random.choice(my_list)\n",
    "print(name)"
   ]
  },
  {
   "cell_type": "code",
   "execution_count": 10,
   "metadata": {},
   "outputs": [
    {
     "name": "stdout",
     "output_type": "stream",
     "text": [
      "harun\n"
     ]
    }
   ],
   "source": [
    "# choice:\n",
    "my_list=[\"harun\",\"yağmur\",\"arda\",\"merve\"]\n",
    "name= random.choice(my_list)\n",
    "print(name)\n"
   ]
  },
  {
   "cell_type": "code",
   "execution_count": 16,
   "metadata": {},
   "outputs": [
    {
     "data": {
      "text/plain": [
       "'arda'"
      ]
     },
     "execution_count": 16,
     "metadata": {},
     "output_type": "execute_result"
    }
   ],
   "source": [
    "# shuffle:  \n",
    "random.shuffle(my_list)\n",
    "\n",
    "my_list[0]"
   ]
  },
  {
   "cell_type": "code",
   "execution_count": 21,
   "metadata": {},
   "outputs": [
    {
     "name": "stdout",
     "output_type": "stream",
     "text": [
      "[37, 47, 17, 82, 52]\n"
     ]
    }
   ],
   "source": [
    "# sample(from: source_list, number of elements)\n",
    "\n",
    "my_numbers= range(2,100,5) # generates a list\n",
    "print(random.sample(my_numbers,5))"
   ]
  },
  {
   "cell_type": "code",
   "execution_count": null,
   "metadata": {},
   "outputs": [],
   "source": []
  }
 ],
 "metadata": {
  "kernelspec": {
   "display_name": "Python 3",
   "language": "python",
   "name": "python3"
  },
  "language_info": {
   "codemirror_mode": {
    "name": "ipython",
    "version": 3
   },
   "file_extension": ".py",
   "mimetype": "text/x-python",
   "name": "python",
   "nbconvert_exporter": "python",
   "pygments_lexer": "ipython3",
   "version": "3.11.4"
  },
  "orig_nbformat": 4
 },
 "nbformat": 4,
 "nbformat_minor": 2
}
