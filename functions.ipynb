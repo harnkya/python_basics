{
 "cells": [
  {
   "cell_type": "markdown",
   "metadata": {},
   "source": [
    "# FUNCTIONS:\n",
    "### We can create functions with \"def\" keyword.\n",
    "### we can whether give parameter to a function or not.\n",
    "\n",
    "# USAGE:"
   ]
  },
  {
   "cell_type": "code",
   "execution_count": 6,
   "metadata": {},
   "outputs": [
    {
     "name": "stdout",
     "output_type": "stream",
     "text": [
      "Hello, Harun\n",
      "Hello, user\n",
      "harun\n"
     ]
    }
   ],
   "source": [
    "def print_name(name = \"user\"):           # defining a function\n",
    "    print(f\"Hello, {name}\")\n",
    "\n",
    "print_name(\"Harun\")    \n",
    "print_name()\n",
    "\n",
    "def say_hello(name ):\n",
    "    return name                       # return type\n",
    "print(say_hello(\"harun\"))\n"
   ]
  },
  {
   "cell_type": "code",
   "execution_count": null,
   "metadata": {},
   "outputs": [],
   "source": [
    "# retirement check\n",
    "\n",
    "def how_old(birth_year):\n",
    "    age = 2023 - birth_year\n",
    "    return age\n",
    "\n",
    "\n",
    "def retirement_check(name, birth_year):  # function in a function.\n",
    "    \"\"\"\n",
    "    DOCSTRİNG: According to users's birth year; determines whether user can retire or how many years should user wait.\n",
    "    INPUT: Birth Date\n",
    "    OUTPUT: Retirement Information\n",
    "\n",
    "    \"\"\"\n",
    "    age = how_old(birth_year)\n",
    "\n",
    "    if age >= 65:\n",
    "        print(f\"Dear {name}, you can retire.\")\n",
    "    else:\n",
    "        print(f\"Dear {name}, you can not retire. You must wait {65-age} years.\")\n",
    "\n",
    "\n",
    "print(help(retirement_check))     # reading documentation with help() method\n",
    "retirement_check(\"Harun\", 2003)"
   ]
  },
  {
   "cell_type": "markdown",
   "metadata": {},
   "source": [
    "# FUNCTION PARAMETERS  (value- reference):"
   ]
  },
  {
   "cell_type": "code",
   "execution_count": 29,
   "metadata": {},
   "outputs": [
    {
     "name": "stdout",
     "output_type": "stream",
     "text": [
      "Harun\n",
      "['izmir', 'Moscow', 'Washington']\n"
     ]
    }
   ],
   "source": [
    "# value: changes a copy of parameter. So, the original parameter doesn't change\n",
    "def change_name(n):\n",
    "    n=\"xyz\"\n",
    "\n",
    "name=\"Harun\"\n",
    "\n",
    "change_name(name)\n",
    "\n",
    "print(name)\n",
    "\n",
    "#reference: changes original parameter. (address)\n",
    "\n",
    "def change_city(n):\n",
    "    n[0]=\"izmir\"\n",
    "\n",
    "capitals=[\"Ankara\", \"Moscow\", \"Washington\"]\n",
    "\n",
    "change_city(capitals)\n",
    "\n",
    "print(capitals)\n",
    "\n",
    "\n",
    "    \n",
    "\n"
   ]
  },
  {
   "cell_type": "code",
   "execution_count": 25,
   "metadata": {},
   "outputs": [
    {
     "name": "stdout",
     "output_type": "stream",
     "text": [
      "['x', 'table', 'pen']\n"
     ]
    }
   ],
   "source": [
    "stuffs=[\"pillow\", \"table\", \"pen\"]\n",
    "n=stuffs\n",
    "n[0]= \"x\"\n",
    "\n",
    "print(stuffs)   # we changed the \"n\" buth both \"stuffs\" and \"n\" changed.\n"
   ]
  },
  {
   "cell_type": "code",
   "execution_count": 33,
   "metadata": {},
   "outputs": [
    {
     "name": "stdout",
     "output_type": "stream",
     "text": [
      "['pillow', 'table', 'pen']\n",
      "['carpet', 'table', 'pen']\n",
      "['abc', 'table', 'pen']\n",
      "['pillow', 'table', 'pen']\n"
     ]
    }
   ],
   "source": [
    "# WHAT IS SLICING?\n",
    "# if we dont want this situation, we can assign same elements to new variable:\n",
    "\n",
    "my_stuffs=[\"pillow\", \"table\", \"pen\"]\n",
    "\n",
    "your_stuffs= my_stuffs[:]\n",
    "\n",
    "your_stuffs[0]= \"carpet\"\n",
    "\n",
    "print(my_stuffs)\n",
    "print(your_stuffs)\n",
    "\n",
    "# or arrange the function with this way:\n",
    "\n",
    "def change_stuff(m):\n",
    "    m[0]= \"abc\"\n",
    "    print(m) # output= ['abc', 'table', 'pen']\n",
    "\n",
    "change_stuff(my_stuffs[:])     \n",
    "print(my_stuffs)   \n",
    "\n",
    "\n"
   ]
  },
  {
   "cell_type": "markdown",
   "metadata": {},
   "source": [
    "# params - args:\n",
    "### enable us to use a function with as many parameters as we want\n",
    "\n",
    "### *params, *args= tuple\n",
    "### **params, **args= dictionary"
   ]
  },
  {
   "cell_type": "code",
   "execution_count": 39,
   "metadata": {},
   "outputs": [
    {
     "name": "stdout",
     "output_type": "stream",
     "text": [
      "(12, 36, 54, 68)\n"
     ]
    },
    {
     "data": {
      "text/plain": [
       "170"
      ]
     },
     "execution_count": 39,
     "metadata": {},
     "output_type": "execute_result"
    }
   ],
   "source": [
    "def add(*params):              \n",
    "    print(params)\n",
    "    return sum(params)\n",
    "\n",
    "add(12,36,54,68,) "
   ]
  },
  {
   "cell_type": "code",
   "execution_count": 40,
   "metadata": {},
   "outputs": [
    {
     "name": "stdout",
     "output_type": "stream",
     "text": [
      "name is Harun \n",
      "surname is Kaya \n",
      "phone is 123456789 \n",
      "name is ali \n",
      "surname is veli \n",
      "phone is 321654987 \n",
      "name is abc \n",
      "surname is xyz \n"
     ]
    }
   ],
   "source": [
    "def display_user(**args):\n",
    "    for key,value in args.items():\n",
    "        print(\"{} is {} \".format(key,value))\n",
    "\n",
    "display_user(name=\"Harun\", surname= \"Kaya\", phone=\"123456789\")  \n",
    "display_user(name=\"ali\", surname= \"veli\", phone=\"321654987\")  \n",
    "display_user(name=\"abc\", surname= \"xyz\" )  \n"
   ]
  },
  {
   "cell_type": "markdown",
   "metadata": {},
   "source": [
    "# Lambda Expressions, Map, Filter:\n",
    "### lambda parameter : return "
   ]
  },
  {
   "cell_type": "code",
   "execution_count": 2,
   "metadata": {},
   "outputs": [
    {
     "name": "stdout",
     "output_type": "stream",
     "text": [
      "<map object at 0x000001E90EC78100>\n",
      "[1, 9, 25, 49, 81]\n"
     ]
    }
   ],
   "source": [
    "# map method is a build in method \n",
    "\n",
    "def square(number): return number**2\n",
    "\n",
    "numbers=[1,3,5,7,9]\n",
    "\n",
    "result=map(square,numbers)\n",
    "\n",
    "print(result) # just returns the address at the memory.\n",
    "       \n",
    "       # giving list elements to a function as a parameter:\n",
    "        \n",
    "result=list(map(square,numbers))\n",
    "\n",
    "print(result)"
   ]
  },
  {
   "cell_type": "code",
   "execution_count": 3,
   "metadata": {},
   "outputs": [
    {
     "name": "stdout",
     "output_type": "stream",
     "text": [
      "[8, 64, 216, 512, 1000]\n"
     ]
    }
   ],
   "source": [
    "# lambda expression: if you want a disposable function; use lambda expression.\n",
    "\n",
    "numbers=[2,4,6,8,10]\n",
    "\n",
    "process= list(map(lambda number: number**3, numbers))   # lambda number: number***3 is a lambda expression. \n",
    "print(process)\n",
    "\n"
   ]
  },
  {
   "cell_type": "code",
   "execution_count": 1,
   "metadata": {},
   "outputs": [
    {
     "name": "stdout",
     "output_type": "stream",
     "text": [
      "[2, 4, 8, 6]\n"
     ]
    }
   ],
   "source": [
    "# Filter:\n",
    "my_numbers = [1, 3, 2, 4, 5, 8, 9, 7, 6]\n",
    "\n",
    "\n",
    "#def check_even(num): return num % 2 == 0   we can define a function with lambda expression too\n",
    "\n",
    "def check_even(): lambda num: num%2==0\n",
    "\n",
    "\n",
    "\n",
    "#result = list(filter(check_even, my_numbers))\n",
    "result = list(filter(lambda num:num%2==0, my_numbers))\n",
    "\n",
    "\n",
    "\n",
    "\n",
    "print(result)"
   ]
  },
  {
   "cell_type": "markdown",
   "metadata": {},
   "source": [
    "# Global and Local variables:\n",
    "### note: functions use new areas of memory"
   ]
  },
  {
   "cell_type": "code",
   "execution_count": 7,
   "metadata": {},
   "outputs": [
    {
     "name": "stdout",
     "output_type": "stream",
     "text": [
      "local x \n",
      "global x \n"
     ]
    }
   ],
   "source": [
    "x= \"global x \"    #GLOBAL SCOPE\n",
    "\n",
    "def function():\n",
    "    x=\"local x \"     # LOCAL SCOPE\n",
    "    print(x)\n",
    "\n",
    "function()\n",
    "print(x)    "
   ]
  },
  {
   "cell_type": "code",
   "execution_count": 9,
   "metadata": {},
   "outputs": [
    {
     "name": "stdout",
     "output_type": "stream",
     "text": [
      "Hello yağmur!\n"
     ]
    }
   ],
   "source": [
    "# in nested functions, the inner function's scope is one outer function itself\n",
    "name=\"global string\"\n",
    "\n",
    "def greeting():\n",
    "    name=\"Harun\" # try turn this line into command line\n",
    "\n",
    "    def hello():\n",
    "        # name=\"yağmur\"\n",
    "        print(f\"Hello {name}!\")\n",
    "\n",
    "    hello()\n",
    "\n",
    "greeting()        "
   ]
  },
  {
   "cell_type": "markdown",
   "metadata": {},
   "source": [
    "### if we want to change global scope, we have to use \"global\" keyword"
   ]
  },
  {
   "cell_type": "code",
   "execution_count": 12,
   "metadata": {},
   "outputs": [
    {
     "name": "stdout",
     "output_type": "stream",
     "text": [
      "x before changing: 50\n",
      "x in changing method: 100\n",
      "x after change method: 50\n"
     ]
    }
   ],
   "source": [
    "x=50\n",
    "print(f\"x before changing: {x}\")\n",
    "\n",
    "def change():\n",
    "    global x # try turn this line into command line\n",
    "    x=100\n",
    "    print(f\"x in changing method: {x}\")\n",
    "    \n",
    "change()\n",
    "\n",
    "print(f\"x after change method: {x}\")\n",
    "    "
   ]
  },
  {
   "cell_type": "code",
   "execution_count": null,
   "metadata": {},
   "outputs": [],
   "source": []
  }
 ],
 "metadata": {
  "kernelspec": {
   "display_name": "Python 3",
   "language": "python",
   "name": "python3"
  },
  "language_info": {
   "codemirror_mode": {
    "name": "ipython",
    "version": 3
   },
   "file_extension": ".py",
   "mimetype": "text/x-python",
   "name": "python",
   "nbconvert_exporter": "python",
   "pygments_lexer": "ipython3",
   "version": "3.11.4"
  },
  "orig_nbformat": 4
 },
 "nbformat": 4,
 "nbformat_minor": 2
}
