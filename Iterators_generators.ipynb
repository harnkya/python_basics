{
 "cells": [
  {
   "cell_type": "code",
   "execution_count": 1,
   "metadata": {},
   "outputs": [
    {
     "name": "stdout",
     "output_type": "stream",
     "text": [
      "1\n",
      "2\n",
      "3\n",
      "4\n",
      "['__add__', '__class__', '__class_getitem__', '__contains__', '__delattr__', '__delitem__', '__dir__', '__doc__', '__eq__', '__format__', '__ge__', '__getattribute__', '__getitem__', '__getstate__', '__gt__', '__hash__', '__iadd__', '__imul__', '__init__', '__init_subclass__', '__iter__', '__le__', '__len__', '__lt__', '__mul__', '__ne__', '__new__', '__reduce__', '__reduce_ex__', '__repr__', '__reversed__', '__rmul__', '__setattr__', '__setitem__', '__sizeof__', '__str__', '__subclasshook__', 'append', 'clear', 'copy', 'count', 'extend', 'index', 'insert', 'pop', 'remove', 'reverse', 'sort']\n"
     ]
    }
   ],
   "source": [
    "generator=[1,2,3,4]\n",
    "\n",
    "for i in generator:\n",
    "    print(i)\n",
    "\n",
    "# Here, i is an iterator object and list is an iterable object\n",
    "print(dir(generator))  # look at the outputs, list has '__iter__' method. So, it is an itirable object"
   ]
  },
  {
   "cell_type": "code",
   "execution_count": 3,
   "metadata": {},
   "outputs": [
    {
     "name": "stdout",
     "output_type": "stream",
     "text": [
      "<list_iterator object at 0x000001696B07F0A0>\n",
      "1\n",
      "2\n",
      "3\n",
      "4\n"
     ]
    }
   ],
   "source": [
    "generator=[1,2,3,4]\n",
    "\n",
    "io=iter(generator)  # io is an object of \"iterator object\" class. iter() is the method while creating the object\n",
    "\n",
    "print(io)\n",
    "\n",
    "print(next(io))\n",
    "print(next(io))\n",
    "print(next(io))\n",
    "print(next(io))\n",
    "# print(next(io))        gives StopIteration exception\n"
   ]
  },
  {
   "cell_type": "code",
   "execution_count": 2,
   "metadata": {},
   "outputs": [
    {
     "name": "stdout",
     "output_type": "stream",
     "text": [
      "1\n",
      "5\n",
      "3\n",
      "6\n",
      "4\n",
      "8\n",
      "2\n"
     ]
    }
   ],
   "source": [
    "# The working process of \"for\" loop:\n",
    "\n",
    "generator=[1,5,3,6,4,8,2]\n",
    "iterator=iter(generator)    # to work on the list without \"for loop\" , we have to create an iterable object.\n",
    "                        # by using iter method\n",
    "while True:\n",
    "    try:\n",
    "        element=next(iterator)\n",
    "        print(element)    # also we can do this without using \"element\"\n",
    "    except StopIteration:\n",
    "        break"
   ]
  },
  {
   "cell_type": "code",
   "execution_count": 8,
   "metadata": {},
   "outputs": [
    {
     "name": "stdout",
     "output_type": "stream",
     "text": [
      "10\n",
      "11\n",
      "12\n",
      "13\n",
      "14\n",
      "15\n",
      "16\n",
      "17\n",
      "18\n",
      "19\n",
      "20\n"
     ]
    }
   ],
   "source": [
    "class my_numbers:\n",
    "    def __init__(self, start, stop):  # to print the numbers in the specified gap\n",
    "        self.start=start\n",
    "        self.stop=stop\n",
    "\n",
    "    def __iter__(self):\n",
    "        return self\n",
    "    \n",
    "    def __next__(self):\n",
    "        if self.start<=self.stop:\n",
    "            x=self.start\n",
    "            self.start+=1\n",
    "            return x \n",
    "        else:\n",
    "            raise StopIteration\n",
    "        \n",
    "generator=my_numbers(10,20)\n",
    "\n",
    "while True:\n",
    "    try:\n",
    "        element=next(my_numbers)\n",
    "        print(element)\n",
    "    except StopIteration:\n",
    "        break"
   ]
  },
  {
   "cell_type": "markdown",
   "metadata": {},
   "source": [
    "# Generators:\n",
    "### Creates an iterator which does not take space in memory. This behavior is perfect for performance\n",
    "\n",
    "### We use it when we do not have to hold the element in a list. In other words,if we need a variable just for once, we should use generators.\n",
    "### keyword is \"yield\""
   ]
  },
  {
   "cell_type": "code",
   "execution_count": 1,
   "metadata": {},
   "outputs": [
    {
     "name": "stdout",
     "output_type": "stream",
     "text": [
      "[0, 1, 8, 27, 64]\n"
     ]
    }
   ],
   "source": [
    "def cube():\n",
    "    result=[]\n",
    "    for i in range(5):\n",
    "        result.append(i**3)\n",
    "    return result\n",
    "print(cube())\n",
    "\n",
    "# list \"result\" takes space in memory. we just want to print the numbers so, we don't need it. We can do it with a generator."
   ]
  },
  {
   "cell_type": "code",
   "execution_count": 3,
   "metadata": {},
   "outputs": [
    {
     "name": "stdout",
     "output_type": "stream",
     "text": [
      "<generator object cube at 0x0000025204E271D0>\n",
      "0\n",
      "1\n",
      "8\n",
      "iterator doesn't reset. so, we have to follow it's value which entered the while \n",
      "27\n",
      "64\n"
     ]
    }
   ],
   "source": [
    "def cube():\n",
    "    for i in range(5):\n",
    "        yield i**3  # yield does not hold the result in memory. So, we can't reach it again.Works just once.\n",
    "\n",
    "print(cube()) # gives a generator object\n",
    "\n",
    "generator=cube()\n",
    "\n",
    "iterator= iter(generator)\n",
    "print(next(iterator))\n",
    "print(next(iterator))\n",
    "print(next(iterator))\n",
    "\n",
    "# Actually we can do the same thing with \"while\":\n",
    "print(\"iterator doesn't reset. so, we have to follow it's value which entered the while \")\n",
    "while True:\n",
    "    try:\n",
    "        print(next(iterator))\n",
    "    except StopIteration:\n",
    "        break"
   ]
  },
  {
   "cell_type": "code",
   "execution_count": 5,
   "metadata": {},
   "outputs": [
    {
     "name": "stdout",
     "output_type": "stream",
     "text": [
      "<generator object cube at 0x0000025204E26B50>\n",
      "0\n",
      "1\n",
      "8\n",
      "27\n",
      "64\n"
     ]
    }
   ],
   "source": [
    "def cube():\n",
    "    for i in range(5):\n",
    "        yield i**3  # yield does not hold the result in memory. So, we can't reach it again.Works just once.\n",
    "\n",
    "print(cube()) # gives a generator object\n",
    "\n",
    "# generator automatically turns the iterable object into iterator. So, we do not have to use iter() method.\n",
    "\n",
    "iterator=cube()\n",
    "\n",
    "while True:\n",
    "    try:\n",
    "        print(next(iterator))\n",
    "    except StopIteration:\n",
    "        break"
   ]
  },
  {
   "cell_type": "code",
   "execution_count": 6,
   "metadata": {},
   "outputs": [
    {
     "name": "stdout",
     "output_type": "stream",
     "text": [
      "[0, 1, 8, 27, 64]\n"
     ]
    }
   ],
   "source": [
    "# REMINDER:\n",
    "generator=[i**3 for i in range(5)] #allows us to arrange list element when its created.\n",
    "print(generator)"
   ]
  },
  {
   "cell_type": "code",
   "execution_count": 10,
   "metadata": {},
   "outputs": [
    {
     "name": "stdout",
     "output_type": "stream",
     "text": [
      "<generator object <genexpr> at 0x0000025204E25630>\n",
      "0\n",
      "1\n",
      "8\n",
      "27\n",
      "64\n"
     ]
    }
   ],
   "source": [
    "# if we do it as a generator, we just need a ()\n",
    "generator=(i**3 for i in range(5))\n",
    "print(generator) # generator itself\n",
    "\n",
    "while True:\n",
    "    try:\n",
    "        print(next(generator))\n",
    "    except StopIteration:\n",
    "        break"
   ]
  },
  {
   "cell_type": "code",
   "execution_count": null,
   "metadata": {},
   "outputs": [],
   "source": []
  },
  {
   "cell_type": "code",
   "execution_count": null,
   "metadata": {},
   "outputs": [],
   "source": []
  }
 ],
 "metadata": {
  "kernelspec": {
   "display_name": "Python 3",
   "language": "python",
   "name": "python3"
  },
  "language_info": {
   "codemirror_mode": {
    "name": "ipython",
    "version": 3
   },
   "file_extension": ".py",
   "mimetype": "text/x-python",
   "name": "python",
   "nbconvert_exporter": "python",
   "pygments_lexer": "ipython3",
   "version": "3.11.4"
  },
  "orig_nbformat": 4
 },
 "nbformat": 4,
 "nbformat_minor": 2
}
