{
 "cells": [
  {
   "cell_type": "markdown",
   "metadata": {},
   "source": [
    "### Gives information about the operating system \n",
    "### allows us to manage files with \"path\" class"
   ]
  },
  {
   "cell_type": "code",
   "execution_count": 3,
   "metadata": {},
   "outputs": [
    {
     "name": "stdout",
     "output_type": "stream",
     "text": [
      "['DirEntry', 'EX_OK', 'F_OK', 'GenericAlias', 'Mapping', 'MutableMapping', 'O_APPEND', 'O_BINARY', 'O_CREAT', 'O_EXCL', 'O_NOINHERIT', 'O_RANDOM', 'O_RDONLY', 'O_RDWR', 'O_SEQUENTIAL', 'O_SHORT_LIVED', 'O_TEMPORARY', 'O_TEXT', 'O_TRUNC', 'O_WRONLY', 'P_DETACH', 'P_NOWAIT', 'P_NOWAITO', 'P_OVERLAY', 'P_WAIT', 'PathLike', 'R_OK', 'SEEK_CUR', 'SEEK_END', 'SEEK_SET', 'TMP_MAX', 'W_OK', 'X_OK', '_AddedDllDirectory', '_Environ', '__all__', '__builtins__', '__doc__', '__file__', '__loader__', '__name__', '__package__', '__spec__', '_check_methods', '_execvpe', '_exists', '_exit', '_fspath', '_get_exports_list', '_walk', '_wrap_close', 'abc', 'abort', 'access', 'add_dll_directory', 'altsep', 'chdir', 'chmod', 'close', 'closerange', 'cpu_count', 'curdir', 'defpath', 'device_encoding', 'devnull', 'dup', 'dup2', 'environ', 'error', 'execl', 'execle', 'execlp', 'execlpe', 'execv', 'execve', 'execvp', 'execvpe', 'extsep', 'fdopen', 'fsdecode', 'fsencode', 'fspath', 'fstat', 'fsync', 'ftruncate', 'get_exec_path', 'get_handle_inheritable', 'get_inheritable', 'get_terminal_size', 'getcwd', 'getcwdb', 'getenv', 'getlogin', 'getpid', 'getppid', 'isatty', 'kill', 'linesep', 'link', 'listdir', 'lseek', 'lstat', 'makedirs', 'mkdir', 'name', 'open', 'pardir', 'path', 'pathsep', 'pipe', 'popen', 'putenv', 'read', 'readlink', 'remove', 'removedirs', 'rename', 'renames', 'replace', 'rmdir', 'scandir', 'sep', 'set_handle_inheritable', 'set_inheritable', 'spawnl', 'spawnle', 'spawnv', 'spawnve', 'st', 'startfile', 'stat', 'stat_result', 'statvfs_result', 'strerror', 'supports_bytes_environ', 'supports_dir_fd', 'supports_effective_ids', 'supports_fd', 'supports_follow_symlinks', 'symlink', 'sys', 'system', 'terminal_size', 'times', 'times_result', 'truncate', 'umask', 'uname_result', 'unlink', 'unsetenv', 'urandom', 'utime', 'waitpid', 'waitstatus_to_exitcode', 'walk', 'write']\n",
      "nt\n"
     ]
    }
   ],
   "source": [
    "import os\n",
    "print(dir(os))\n",
    "print(os.name) # nt means windows operating system"
   ]
  },
  {
   "cell_type": "code",
   "execution_count": 4,
   "metadata": {},
   "outputs": [
    {
     "name": "stdout",
     "output_type": "stream",
     "text": [
      "c:\\Users\\Harun\\Desktop\\python_temelleri\\advanced_modules\n"
     ]
    }
   ],
   "source": [
    "print(os.getcwd()) # getcwd() gives us the location of file which we work on"
   ]
  },
  {
   "cell_type": "code",
   "execution_count": 30,
   "metadata": {},
   "outputs": [],
   "source": [
    "# make directory method:\n",
    "os.mkdir(\"new_directory\") # creates a new folder if it does not exist\n"
   ]
  },
  {
   "cell_type": "code",
   "execution_count": 32,
   "metadata": {},
   "outputs": [],
   "source": [
    "# renaming: \n",
    "\n",
    "os.rename(\"new_directory\",\"directory\")"
   ]
  },
  {
   "cell_type": "code",
   "execution_count": 14,
   "metadata": {},
   "outputs": [
    {
     "name": "stdout",
     "output_type": "stream",
     "text": [
      "C:\\Users\\Harun\\Desktop\\python_temelleri\\advanced_modules\n"
     ]
    }
   ],
   "source": [
    "# change directory method: changes the instant location (index). allows us to work on the location we want\n",
    "os.chdir('C:\\\\Users\\\\Harun\\\\Desktop\\\\python_temelleri\\\\advanced_modules')  # now we are working on the C:\n",
    "\n",
    "# os.mkdir(\"new file\") # creates a new folder under the C:\\\\\n",
    "os.chdir('..')  # takes the index to the one upper folder\n",
    "os.chdir('../..')   # takes the index to the two upper folder\n",
    "result=os.getcwd()\n",
    "print(result)\n",
    "\n",
    "# make directories method: creates a folder under a folder\n",
    "\n",
    "os.makedirs(\"neww_directory\\\\new\")"
   ]
  },
  {
   "cell_type": "code",
   "execution_count": 18,
   "metadata": {},
   "outputs": [
    {
     "name": "stdout",
     "output_type": "stream",
     "text": [
      "['Datetime.ipynb', 'os_module.ipynb']\n",
      "['$Recycle.Bin', '$SysReset', '$WinREAgent', '.GamingRoot', 'AMD', 'Documents and Settings', 'DumpStack.log', 'DumpStack.log.tmp', 'FallGuys', 'hiberfil.sys', 'hpswsetup', 'html dersleri', 'OneDriveTemp', 'pagefile.sys', 'PerfLogs', 'Program Files', 'Program Files (x86)', 'ProgramData', 'Recovery', 'Riot Games', 'swapfile.sys', 'swsetup', 'System Volume Information', 'system.sav', 'Temp', 'Users', 'Windows', 'XboxGames']\n",
      "Datetime.ipynb\n",
      "os_module.ipynb\n"
     ]
    }
   ],
   "source": [
    "# LISTING\n",
    "#listdir(): list the folders which is located at the instant location or given location\n",
    "\n",
    "print(os.listdir()) #list the folders which is located at the instant location\n",
    "print(os.listdir(\"C:\\\\\")) #list the folders which is located at the given location \n",
    "\n",
    "# filtering folders:\n",
    "\n",
    "for i in os.listdir():\n",
    "    if i.endswith(\".ipynb\"):\n",
    "        print(i)"
   ]
  },
  {
   "cell_type": "code",
   "execution_count": 27,
   "metadata": {},
   "outputs": [
    {
     "name": "stdout",
     "output_type": "stream",
     "text": [
      "5436\n",
      "2023-09-08 21:54:19.590600\n"
     ]
    }
   ],
   "source": [
    "# getting information about a specified folder: \n",
    "\n",
    "import datetime\n",
    "result=os.stat(\"os_module.ipynb\")\n",
    "print(result.st_size) # st_size gives its byte size\n",
    "print(datetime.datetime.fromtimestamp(result.st_ctime)) # .st_ctime gives the folder's creating time (creating)\n",
    "print(datetime.datetime.fromtimestamp(result.st_atime)) # .st_atime gives the folder's last accessing time (accessing )\n",
    "print(datetime.datetime.fromtimestamp(result.st_mtime)) # .st_mtime gives the folder's changing time  (modify)"
   ]
  },
  {
   "cell_type": "code",
   "execution_count": 33,
   "metadata": {},
   "outputs": [
    {
     "data": {
      "text/plain": [
       "0"
      ]
     },
     "execution_count": 33,
     "metadata": {},
     "output_type": "execute_result"
    }
   ],
   "source": [
    "# executing an application\n",
    "os.system(\"notepad.exe\")"
   ]
  },
  {
   "cell_type": "code",
   "execution_count": 42,
   "metadata": {},
   "outputs": [],
   "source": [
    "# removing directories:\n",
    "\n",
    "os.mkdir(\"new directory\")\n",
    "\n",
    "# if there is not any sub-directory:\n",
    "os.rmdir(\"new directory\")\n",
    "\n",
    "# if there are sub-directories:\n",
    "os.remove(\"directory/random\")\n",
    "\n"
   ]
  },
  {
   "cell_type": "code",
   "execution_count": 59,
   "metadata": {},
   "outputs": [
    {
     "name": "stdout",
     "output_type": "stream",
     "text": [
      "C:\\Users\\Harun\\Desktop\\python_temelleri\\advanced_modules\\os_module.ipynb\n",
      "C:\\Users\\Harun\\Desktop\\python_temelleri\\advanced_modules\n",
      "C:\\Users\\Harun\\Desktop\\python_temelleri\\advanced_modules\n",
      "True\n",
      "False\n",
      "True\n",
      "C\\try\\try1\n",
      "('C', 'try')\n",
      "('os_module', '.ipynb')\n"
     ]
    }
   ],
   "source": [
    "# path\n",
    "result=os.path.abspath(\"os_module.ipynb\")\n",
    "print(result) # gives the absolute location of given file\n",
    "\n",
    "result2=os.path.dirname(\"C:\\\\Users\\\\Harun\\\\Desktop\\\\python_temelleri\\\\advanced_modules\\\\os_module.ipynb\") # gives the directory name of a specified file which is located at the given address\n",
    "print(result2)\n",
    "\n",
    "# if we just know the file name and don't know the location, to reach the directory name of file:\n",
    "print(os.path.dirname(os.path.abspath(\"os_module.ipynb\")))\n",
    "\n",
    "# exist method: searchs the file at the location\n",
    "print(os.path.exists(\"os_module.ipynb\")) # returns true or false\n",
    "\n",
    "#Check whether the given file type is a folder or a file: isdir(), isfile()\n",
    "print(os.path.isdir(\"C:\\\\Users\\\\Harun\\\\Desktop\\\\python_temelleri\\\\advanced_modules\\\\os_module.ipynb\"))\n",
    "print(os.path.isfile(\"C:\\\\Users\\\\Harun\\\\Desktop\\\\python_temelleri\\\\advanced_modules\\\\os_module.ipynb\"))\n",
    "\n",
    "# creating a new path:\n",
    "result=os.path.join(\"C\\\\\",\"try\",\"try1\") # folder did not created yet. We just creatted its path\n",
    "print(result)\n",
    "\n",
    "result2= os.path.split(\"C\\\\try\")\n",
    "print(result2)\n",
    "\n",
    "# spliting file name and its file extension:\n",
    "result3=os.path.splitext(\"os_module.ipynb\")\n",
    "print(result3)\n",
    "\n",
    "\n",
    "\n",
    "\n"
   ]
  },
  {
   "cell_type": "code",
   "execution_count": null,
   "metadata": {},
   "outputs": [],
   "source": []
  }
 ],
 "metadata": {
  "kernelspec": {
   "display_name": "Python 3",
   "language": "python",
   "name": "python3"
  },
  "language_info": {
   "codemirror_mode": {
    "name": "ipython",
    "version": 3
   },
   "file_extension": ".py",
   "mimetype": "text/x-python",
   "name": "python",
   "nbconvert_exporter": "python",
   "pygments_lexer": "ipython3",
   "version": "3.11.4"
  },
  "orig_nbformat": 4
 },
 "nbformat": 4,
 "nbformat_minor": 2
}
