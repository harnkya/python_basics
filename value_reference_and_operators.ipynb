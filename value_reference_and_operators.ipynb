{
 "cells": [
  {
   "cell_type": "markdown",
   "metadata": {},
   "source": [
    "# VALUE and REFERENCE TYPES:\n",
    "## value types holds an anddress (reference)\n",
    "## reference types holds the values"
   ]
  },
  {
   "cell_type": "code",
   "execution_count": 7,
   "metadata": {},
   "outputs": [
    {
     "name": "stdout",
     "output_type": "stream",
     "text": [
      "30 65\n",
      "['orange', 'banana'] ['orange', 'banana']\n"
     ]
    }
   ],
   "source": [
    "#                                value type:\n",
    "x=9\n",
    "y=30\n",
    "x=y\n",
    "\n",
    "y=65\n",
    "\n",
    "print(x, y)\n",
    "\n",
    "#                              reference type:\n",
    "\n",
    "a =[\"apple\", \"banana\"]\n",
    "b=[\"apple\", \"banana\"]\n",
    "print(a, b)\n",
    "a=b\n",
    "\n",
    "b[0] =\"orange\"\n",
    "print(a, b)\n",
    "\n"
   ]
  },
  {
   "cell_type": "markdown",
   "metadata": {},
   "source": [
    "#                                                                 OPERATORS:\n",
    "### +=, -=, *=, /=, %=, ** \n",
    "### to find the quotient we use \"//=\" \n",
    "### ==, !=, <=, >=, \n",
    "### and, or "
   ]
  },
  {
   "cell_type": "code",
   "execution_count": 4,
   "metadata": {},
   "outputs": [
    {
     "name": "stdout",
     "output_type": "stream",
     "text": [
      "6 7 8\n",
      "6 7 6\n",
      "9 5 [5, 6]\n"
     ]
    }
   ],
   "source": [
    "values = (6, 7, 8)\n",
    "x, y, z = values\n",
    "print(x, y, z)\n",
    "\n",
    "values2 = (9, 5, 5, 6)\n",
    "# x, y, z= values2\n",
    "print(x, y, x)               # number of variables' and list elements must be equal\n",
    "\n",
    "x, y, *z = values2     # now z has a list\n",
    "print(x, y, z)"
   ]
  },
  {
   "cell_type": "markdown",
   "metadata": {},
   "source": [
    "# Identity and Membership operators:\n",
    "### identity operator = \"is\"  and \" is not\"      compares the variable references'\n",
    "### membership operator = \"in\" and \"not in\"      \n"
   ]
  },
  {
   "cell_type": "code",
   "execution_count": 7,
   "metadata": {},
   "outputs": [
    {
     "name": "stdout",
     "output_type": "stream",
     "text": [
      "True\n",
      "True\n"
     ]
    }
   ],
   "source": [
    "x = y = [1, 3, 5]\n",
    "z = [1, 3, 5]\n",
    "print(x == y)\n",
    "print(y == z)\n"
   ]
  },
  {
   "cell_type": "code",
   "execution_count": 9,
   "metadata": {},
   "outputs": [
    {
     "name": "stdout",
     "output_type": "stream",
     "text": [
      "True\n",
      "False\n"
     ]
    }
   ],
   "source": [
    "print( x is y)\n",
    "print(y is z)             # compares the feferences "
   ]
  },
  {
   "cell_type": "code",
   "execution_count": 11,
   "metadata": {},
   "outputs": [
    {
     "name": "stdout",
     "output_type": "stream",
     "text": [
      "True\n",
      "True\n"
     ]
    }
   ],
   "source": [
    "fruits= [\"apple\", \"banana\"]\n",
    "print(\"apple\" in fruits)\n",
    "\n",
    "name= \"harun\"\n",
    "print(\"y\" not in name)"
   ]
  },
  {
   "cell_type": "code",
   "execution_count": 5,
   "metadata": {},
   "outputs": [
    {
     "name": "stdout",
     "output_type": "stream",
     "text": [
      "True\n"
     ]
    }
   ],
   "source": [
    "education = input(\"please enter your education level: \")\n",
    "education= education.title()\n",
    "print(education ==\"High School\")"
   ]
  },
  {
   "cell_type": "code",
   "execution_count": 6,
   "metadata": {},
   "outputs": [
    {
     "name": "stdout",
     "output_type": "stream",
     "text": [
      "you must graduate from high school.\n"
     ]
    }
   ],
   "source": [
    "age = input(\"please enter your age: \")\n",
    "age= int(age)\n",
    "ageCheck = age >= 18\n",
    "\n",
    "education = input(\"please enter your education level: \")\n",
    "education= education.title()\n",
    "educationCheck = (education == \"High Shcool\") or (education==\"College\")\n",
    "\n",
    "\n",
    "if ageCheck:\n",
    "    if educationCheck:\n",
    "        print(\"You can get driver licence.\")\n",
    "    else:\n",
    "        print(\"you must graduate from high school.\")\n",
    "else:\n",
    "    print(\"You must be 18 years old at least,\")\n"
   ]
  }
 ],
 "metadata": {
  "kernelspec": {
   "display_name": "Python 3",
   "language": "python",
   "name": "python3"
  },
  "language_info": {
   "codemirror_mode": {
    "name": "ipython",
    "version": 3
   },
   "file_extension": ".py",
   "mimetype": "text/x-python",
   "name": "python",
   "nbconvert_exporter": "python",
   "pygments_lexer": "ipython3",
   "version": "3.11.4"
  },
  "orig_nbformat": 4
 },
 "nbformat": 4,
 "nbformat_minor": 2
}
