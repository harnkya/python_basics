{
 "cells": [
  {
   "cell_type": "markdown",
   "metadata": {},
   "source": [
    "A list can cold any kind of variables in python.\n",
    "\n",
    "Two different lists can be concatenated with the operator \"+\"\n",
    "\n"
   ]
  },
  {
   "cell_type": "markdown",
   "metadata": {},
   "source": [
    "TWO DIMENSIONAL LISTS:\n",
    "(list in a list)"
   ]
  },
  {
   "cell_type": "code",
   "execution_count": 30,
   "metadata": {},
   "outputs": [
    {
     "data": {
      "text/plain": [
       "[['harun', 20], ['yağmur', 20]]"
      ]
     },
     "execution_count": 30,
     "metadata": {},
     "output_type": "execute_result"
    }
   ],
   "source": [
    "user1= [\"harun\" , 20]\n",
    "user2= [\"yağmur\" , 20]\n",
    "users=[user1,user2]\n",
    "users"
   ]
  },
  {
   "cell_type": "markdown",
   "metadata": {},
   "source": [
    "Finding a specified element in a list: \n",
    "\n",
    "(with \"in\" operator) \n",
    "\n",
    "if it is there, returns true"
   ]
  },
  {
   "cell_type": "code",
   "execution_count": 31,
   "metadata": {},
   "outputs": [
    {
     "data": {
      "text/plain": [
       "True"
      ]
     },
     "execution_count": 31,
     "metadata": {},
     "output_type": "execute_result"
    }
   ],
   "source": [
    "list= [\"Mercedes\", \"Audi\", \"Bmv\"]\n",
    "isThere=\"Mercedes\" in list\n",
    "isThere"
   ]
  },
  {
   "cell_type": "markdown",
   "metadata": {},
   "source": [
    "List methods:\n",
    "\n",
    "max and min gives the min or max number and  latest or first letter\n",
    "\n",
    "list.apend()= adds the given value to the list\n",
    "\n",
    "list.instert(n, x)= adds the x value to the n'th index\n",
    "\n",
    "list.pop(n)= deletes the value at the n'th index. if you do not type anything here, deletes the value at the latest index. pop()=pop(-1)\n",
    "\n",
    "list.remove(n)= the given element (n) in the list = list.remove() works with same principle\n",
    "\n",
    "list.(sort)= sorts the list alphabetically or numerically\n",
    "\n",
    "list.reverse()= reverses the list \n",
    "\n",
    "list.count(n)= counts how many times given element repeated\n",
    "\n",
    "list.clear()= clears all the elements in a list\n",
    "\n",
    "list.index(n)= gives the index of 'n' element\n",
    "\n",
    "list.add()= add just one element \n",
    "\n",
    "list.update( [ ] )= add more then one element\n",
    "\n",
    "set(list)= removes the repeating elements"
   ]
  },
  {
   "cell_type": "markdown",
   "metadata": {},
   "source": [
    "                                                             SOME EXAMPLES FOR THE USAGE OF METHODS :)"
   ]
  },
  {
   "cell_type": "code",
   "execution_count": 32,
   "metadata": {},
   "outputs": [],
   "source": [
    "\n",
    "names = [\"Ali\", \"Yağmur\", \"Hakan\", \"Deniz\"]\n",
    "years = [1998, 2000, 1998, 1997]\n",
    "str=\"chevrolet, Dacia\""
   ]
  },
  {
   "cell_type": "code",
   "execution_count": 33,
   "metadata": {},
   "outputs": [
    {
     "data": {
      "text/plain": [
       "['Ali', 'Yağmur', 'Hakan', 'Deniz', 'cenk']"
      ]
     },
     "execution_count": 33,
     "metadata": {},
     "output_type": "execute_result"
    }
   ],
   "source": [
    "names.append(\"cenk\")\n",
    "names"
   ]
  },
  {
   "cell_type": "code",
   "execution_count": 34,
   "metadata": {},
   "outputs": [
    {
     "data": {
      "text/plain": [
       "['Sena', 'Ali', 'Yağmur', 'Hakan', 'Deniz', 'cenk']"
      ]
     },
     "execution_count": 34,
     "metadata": {},
     "output_type": "execute_result"
    }
   ],
   "source": [
    "names.insert(0,\"Sena\")\n",
    "names"
   ]
  },
  {
   "cell_type": "code",
   "execution_count": 35,
   "metadata": {},
   "outputs": [
    {
     "data": {
      "text/plain": [
       "['Sena', 'Ali', 'Yağmur', 'Hakan', 'cenk']"
      ]
     },
     "execution_count": 35,
     "metadata": {},
     "output_type": "execute_result"
    }
   ],
   "source": [
    "names.remove(\"Deniz\")\n",
    "names"
   ]
  },
  {
   "cell_type": "code",
   "execution_count": 36,
   "metadata": {},
   "outputs": [
    {
     "ename": "ValueError",
     "evalue": "'Deniz' is not in list",
     "output_type": "error",
     "traceback": [
      "\u001b[1;31m---------------------------------------------------------------------------\u001b[0m",
      "\u001b[1;31mValueError\u001b[0m                                Traceback (most recent call last)",
      "Cell \u001b[1;32mIn[36], line 1\u001b[0m\n\u001b[1;32m----> 1\u001b[0m num\u001b[39m=\u001b[39mnames\u001b[39m.\u001b[39;49mindex(\u001b[39m\"\u001b[39;49m\u001b[39mDeniz\u001b[39;49m\u001b[39m\"\u001b[39;49m)\n\u001b[0;32m      2\u001b[0m num\n",
      "\u001b[1;31mValueError\u001b[0m: 'Deniz' is not in list"
     ]
    }
   ],
   "source": [
    "num=names.index(\"Deniz\")\n",
    "num"
   ]
  },
  {
   "cell_type": "code",
   "execution_count": null,
   "metadata": {},
   "outputs": [
    {
     "data": {
      "text/plain": [
       "True"
      ]
     },
     "execution_count": 97,
     "metadata": {},
     "output_type": "execute_result"
    }
   ],
   "source": [
    "isExist=\"Ali\" in names\n",
    "isExist"
   ]
  },
  {
   "cell_type": "code",
   "execution_count": null,
   "metadata": {},
   "outputs": [
    {
     "data": {
      "text/plain": [
       "['Deniz', 'Hakan', 'Yağmur', 'Ali']"
      ]
     },
     "execution_count": 99,
     "metadata": {},
     "output_type": "execute_result"
    }
   ],
   "source": [
    "names.reverse()\n",
    "names"
   ]
  },
  {
   "cell_type": "code",
   "execution_count": null,
   "metadata": {},
   "outputs": [
    {
     "data": {
      "text/plain": [
       "['Ali', 'Deniz', 'Hakan', 'Yağmur']"
      ]
     },
     "execution_count": 103,
     "metadata": {},
     "output_type": "execute_result"
    }
   ],
   "source": [
    "names.sort()\n",
    "names"
   ]
  },
  {
   "cell_type": "code",
   "execution_count": null,
   "metadata": {},
   "outputs": [
    {
     "data": {
      "text/plain": [
       "[1997, 1998, 1998, 2000]"
      ]
     },
     "execution_count": 102,
     "metadata": {},
     "output_type": "execute_result"
    }
   ],
   "source": [
    "years.sort()\n",
    "years"
   ]
  },
  {
   "cell_type": "code",
   "execution_count": null,
   "metadata": {},
   "outputs": [
    {
     "data": {
      "text/plain": [
       "['chevrolet', ' Dacia']"
      ]
     },
     "execution_count": 135,
     "metadata": {},
     "output_type": "execute_result"
    }
   ],
   "source": [
    "Str=str.split(',')\n",
    "Str"
   ]
  },
  {
   "cell_type": "code",
   "execution_count": null,
   "metadata": {},
   "outputs": [
    {
     "data": {
      "text/plain": [
       "1997"
      ]
     },
     "execution_count": 137,
     "metadata": {},
     "output_type": "execute_result"
    }
   ],
   "source": [
    "min=min(years)\n",
    "min"
   ]
  },
  {
   "cell_type": "code",
   "execution_count": null,
   "metadata": {},
   "outputs": [
    {
     "data": {
      "text/plain": [
       "2000"
      ]
     },
     "execution_count": 138,
     "metadata": {},
     "output_type": "execute_result"
    }
   ],
   "source": [
    "max=max(years)\n",
    "max"
   ]
  },
  {
   "cell_type": "code",
   "execution_count": null,
   "metadata": {},
   "outputs": [
    {
     "data": {
      "text/plain": [
       "2"
      ]
     },
     "execution_count": 139,
     "metadata": {},
     "output_type": "execute_result"
    }
   ],
   "source": [
    "count=years.count(1998)\n",
    "count"
   ]
  },
  {
   "cell_type": "code",
   "execution_count": null,
   "metadata": {},
   "outputs": [
    {
     "data": {
      "text/plain": [
       "[]"
      ]
     },
     "execution_count": 140,
     "metadata": {},
     "output_type": "execute_result"
    }
   ],
   "source": [
    "years.clear()\n",
    "years"
   ]
  },
  {
   "cell_type": "code",
   "execution_count": null,
   "metadata": {},
   "outputs": [
    {
     "data": {
      "text/plain": [
       "['tıhgt']"
      ]
     },
     "execution_count": 1,
     "metadata": {},
     "output_type": "execute_result"
    }
   ],
   "source": [
    "brands=[]\n",
    "brands.append(input(\"brands:\" ))\n",
    "brands"
   ]
  },
  {
   "cell_type": "markdown",
   "metadata": {},
   "source": [
    "#                                                                   TUPLE TYPE:\n",
    "\n",
    "Tuple does not allow one element assignments (you can change the whole tuple but cannot change just one element), that's the only difference between them\n",
    "\n",
    "you can assign a tuple list whether by using \"()\" or not"
   ]
  },
  {
   "cell_type": "code",
   "execution_count": 3,
   "metadata": {},
   "outputs": [
    {
     "name": "stdout",
     "output_type": "stream",
     "text": [
      "(6, True, 'word')\n",
      "(6, True, 'word')\n"
     ]
    }
   ],
   "source": [
    "list=[6,True,\"word\"]\n",
    "tuple=6,True, \"word\"     #Also (6, True, \"word\")  is a true usage.\n",
    "\n",
    "print(tuple)\n",
    "# tuple[0]=5         (work as code line)\n",
    "print(tuple)"
   ]
  },
  {
   "cell_type": "markdown",
   "metadata": {},
   "source": [
    "we can also concatenate two tuples"
   ]
  },
  {
   "cell_type": "code",
   "execution_count": 39,
   "metadata": {},
   "outputs": [
    {
     "data": {
      "text/plain": [
       "'Harun kaya'"
      ]
     },
     "execution_count": 39,
     "metadata": {},
     "output_type": "execute_result"
    }
   ],
   "source": [
    "tuple1=(\"Harun \")\n",
    "tuple2=(\"kaya\")\n",
    "mixList=tuple1+ tuple2\n",
    "mixList"
   ]
  },
  {
   "cell_type": "markdown",
   "metadata": {},
   "source": [
    "#                                                                    DICTIONARY TYPE:\n",
    "works as key - value     \n",
    "\n",
    "{key : value}\n",
    "                                                  "
   ]
  },
  {
   "cell_type": "code",
   "execution_count": 1,
   "metadata": {},
   "outputs": [
    {
     "name": "stdout",
     "output_type": "stream",
     "text": [
      "41\n"
     ]
    },
    {
     "data": {
      "text/plain": [
       "{'Kocaeli': 'new value', 'İstanbul': 34, 'Ankara': 6}"
      ]
     },
     "execution_count": 1,
     "metadata": {},
     "output_type": "execute_result"
    }
   ],
   "source": [
    "cities= {\"Kocaeli\" :41, \"İstanbul\" : 34}\n",
    "print(cities[\"Kocaeli\"])\n",
    "cities[\"Ankara\"]= 6          # adding a new element into a dictionary\n",
    "cities[\"Kocaeli\"]= \"new value\"  # changing a key's value\n",
    "cities"
   ]
  },
  {
   "cell_type": "code",
   "execution_count": 69,
   "metadata": {},
   "outputs": [
    {
     "name": "stdout",
     "output_type": "stream",
     "text": [
      "{'Harun': {'Surname': 'Kaya', 'roles': ['admin', 'user'], 'Location': 'Manisa', 'Phone': 11111111}, 'yağmur': {'Surname': 'abc', 'roles': ['user'], 'Location': 'İzmir', 'Phone': 9484}}\n",
      "{'Surname': 'Kaya', 'roles': ['admin', 'user'], 'Location': 'Manisa', 'Phone': 11111111}\n",
      "admin\n"
     ]
    }
   ],
   "source": [
    "users = {\"Harun\" :{\n",
    "         \"Surname\" : \"Kaya\",\n",
    "         \"roles\": [\"admin\",\"user\"],\n",
    "         \"Location\" : \"Manisa\",\n",
    "         \"Phone\" : 11111111},\n",
    "\n",
    "         \"yağmur\" :{\n",
    "        \"Surname\": \"abc\",\n",
    "        \"roles\" : [\"user\"],\n",
    "        \"Location\" : \"İzmir\",\n",
    "        \"Phone\": 9484}\n",
    "         }\n",
    "         \n",
    "print(users)\n",
    "print(users[\"Harun\"])\n",
    "print(users[\"Harun\"][\"roles\"][0])"
   ]
  },
  {
   "cell_type": "markdown",
   "metadata": {},
   "source": [
    "#                                                                      SET TYPE;\n",
    "### can not subscriptable (we can reach the elements by indexes) \n",
    "### \n"
   ]
  },
  {
   "cell_type": "code",
   "execution_count": 7,
   "metadata": {},
   "outputs": [
    {
     "name": "stdout",
     "output_type": "stream",
     "text": [
      "banana\n",
      "strawberry\n",
      "orange\n",
      "apple\n",
      "cherry\n"
     ]
    }
   ],
   "source": [
    "fruits = {\"apple\", \"orange\", \"banana\"}\n",
    "# print(fruits[0]) # cant be subscriptable\n",
    "\n",
    "fruits.update([\"cherry\", \"strawberry\"])  # adding a new element\n",
    "\n",
    "for i in fruits: # getting the elements of a set\n",
    "    print(i)"
   ]
  },
  {
   "cell_type": "code",
   "execution_count": null,
   "metadata": {},
   "outputs": [],
   "source": []
  }
 ],
 "metadata": {
  "kernelspec": {
   "display_name": "Python 3",
   "language": "python",
   "name": "python3"
  },
  "language_info": {
   "codemirror_mode": {
    "name": "ipython",
    "version": 3
   },
   "file_extension": ".py",
   "mimetype": "text/x-python",
   "name": "python",
   "nbconvert_exporter": "python",
   "pygments_lexer": "ipython3",
   "version": "3.11.4"
  },
  "orig_nbformat": 4
 },
 "nbformat": 4,
 "nbformat_minor": 2
}
