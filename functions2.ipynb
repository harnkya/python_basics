{
 "cells": [
  {
   "cell_type": "markdown",
   "metadata": {},
   "source": [
    "## Actually, whole process is sending a function's reference to another function.\n",
    "### Nesned Functions:"
   ]
  },
  {
   "cell_type": "code",
   "execution_count": 1,
   "metadata": {},
   "outputs": [
    {
     "name": "stdout",
     "output_type": "stream",
     "text": [
      "Hello, Harun\n"
     ]
    }
   ],
   "source": [
    "def greeting(name):\n",
    "    print(\"Hello, \"+ name)\n",
    "greeting(\"Harun\")"
   ]
  },
  {
   "cell_type": "code",
   "execution_count": 2,
   "metadata": {},
   "outputs": [
    {
     "name": "stdout",
     "output_type": "stream",
     "text": [
      "<function greeting at 0x000001420BA32480>\n"
     ]
    }
   ],
   "source": [
    "print(greeting)\n",
    "# prints the greeting object"
   ]
  },
  {
   "cell_type": "code",
   "execution_count": 3,
   "metadata": {},
   "outputs": [
    {
     "name": "stdout",
     "output_type": "stream",
     "text": [
      "Hello, ali\n",
      "None\n",
      "Hello, ali\n",
      "None\n"
     ]
    },
    {
     "data": {
      "text/plain": [
       "<function __main__.greeting(name)>"
      ]
     },
     "execution_count": 3,
     "metadata": {},
     "output_type": "execute_result"
    }
   ],
   "source": [
    "sayHello= greeting\n",
    "\n",
    "print(sayHello(\"ali\"))\n",
    "print(greeting(\"ali\"))\n",
    "greeting"
   ]
  },
  {
   "cell_type": "code",
   "execution_count": null,
   "metadata": {},
   "outputs": [],
   "source": [
    "del sayHello\n",
    "# print(sayHello)  gives Name Error\n",
    "print(greeting)"
   ]
  },
  {
   "cell_type": "markdown",
   "metadata": {},
   "source": [
    "# ENCAPSULATION:"
   ]
  },
  {
   "cell_type": "code",
   "execution_count": 3,
   "metadata": {},
   "outputs": [
    {
     "name": "stdout",
     "output_type": "stream",
     "text": [
      "outer\n",
      "inner\n"
     ]
    },
    {
     "data": {
      "text/plain": [
       "(10, 11)"
      ]
     },
     "execution_count": 3,
     "metadata": {},
     "output_type": "execute_result"
    }
   ],
   "source": [
    "def outer(number):\n",
    "    print(\"outer\")\n",
    "\n",
    "    # this \"inner\" function is only defined in the \"outer\" function's scope. we can not execute it in the global scope.\n",
    "    def inner(number):\n",
    "        print(\"inner\")\n",
    "        return number+1\n",
    "\n",
    "     # we've just defined the inner function\n",
    "\n",
    "    new_number=inner(number) # now we've executed the inner function. This point is important\n",
    "    return number, new_number\n",
    "\n",
    "outer(10)\n",
    "\n",
    "# inner(15)"
   ]
  },
  {
   "cell_type": "markdown",
   "metadata": {},
   "source": [
    "# Recursive Functions:\n"
   ]
  },
  {
   "cell_type": "code",
   "execution_count": 7,
   "metadata": {},
   "outputs": [
    {
     "name": "stdout",
     "output_type": "stream",
     "text": [
      "Number must be an integer\n"
     ]
    }
   ],
   "source": [
    "def factorial(number):\n",
    "    if not isinstance(number, int): # isinstance method checks if the given variable is a member of given class or not \n",
    "        raise TypeError(\"Number must be an integer\")\n",
    "    \n",
    "    if not number >=0:\n",
    "        raise ValueError(\"number must be positive or zero\")\n",
    "    \n",
    "    if number <=1:\n",
    "        return 1\n",
    "    else:\n",
    "        return number* factorial(number-1)\n",
    "\n",
    "try:\n",
    "    print(factorial(5.5))\n",
    "except Exception as ex:\n",
    "    print(ex)\n"
   ]
  },
  {
   "cell_type": "markdown",
   "metadata": {},
   "source": [
    "### Returning a function in a function:\n"
   ]
  },
  {
   "cell_type": "code",
   "execution_count": 1,
   "metadata": {},
   "outputs": [
    {
     "name": "stdout",
     "output_type": "stream",
     "text": [
      "Admin can reach the Admin page\n"
     ]
    }
   ],
   "source": [
    "def check_authorithy(page):\n",
    "    def inner(role):\n",
    "        if role==\"Admin\":\n",
    "            return \"{0} can reach the {1}\".format(role, page)\n",
    "        else:\n",
    "            return \"{0} can not reach the {1}\".format(role, page)\n",
    "    return inner\n",
    "\n",
    "user=check_authorithy(\"Admin page\")\n",
    "print(user(\"Admin\"))"
   ]
  },
  {
   "cell_type": "markdown",
   "metadata": {},
   "source": [
    "### Also we can give a function to another function as parameter."
   ]
  },
  {
   "cell_type": "markdown",
   "metadata": {},
   "source": [
    "# DECORATOR FUNCTIONS:\n",
    "### Check two cells below!!!!"
   ]
  },
  {
   "cell_type": "code",
   "execution_count": 10,
   "metadata": {},
   "outputs": [
    {
     "name": "stdout",
     "output_type": "stream",
     "text": [
      "Hello!\n",
      "operations before the function...\n",
      "operations after the function...\n"
     ]
    }
   ],
   "source": [
    "def my_decorator(func):\n",
    "    def wrapper():\n",
    "        print(\"operations before the function...\")\n",
    "        func()\n",
    "        print(\"operations after the function...\")\n",
    "    \n",
    "    return wrapper\n",
    "\n",
    "def say_hello():\n",
    "    print(\"Hello!\")\n",
    "\n",
    "def greeting():\n",
    "    print(\"Greetings!\")\n",
    "\n",
    "say_hello=my_decorator(say_hello)\n",
    "say_hello()\n"
   ]
  },
  {
   "cell_type": "code",
   "execution_count": 12,
   "metadata": {},
   "outputs": [
    {
     "name": "stdout",
     "output_type": "stream",
     "text": [
      "operations before the function...\n",
      "Hello!\n",
      "operations after the function...\n"
     ]
    }
   ],
   "source": [
    "def my_decorator(func):\n",
    "    def wrapper():\n",
    "        print(\"operations before the function...\")\n",
    "        func()\n",
    "        print(\"operations after the function...\")\n",
    "    \n",
    "    return wrapper\n",
    "\n",
    "\n",
    "\n",
    "@my_decorator  # we can do same thing with       say_hello=my_decorator(say_hello)    by typing     @my_decorator          to the brginning of the function!!!!!!!!!1\n",
    "def say_hello():\n",
    "    print(\"Hello!\")\n",
    "\n",
    "say_hello()\n"
   ]
  },
  {
   "cell_type": "code",
   "execution_count": 21,
   "metadata": {},
   "outputs": [
    {
     "name": "stdout",
     "output_type": "stream",
     "text": [
      "274625.0\n",
      "function worked 0.0 seconds\n",
      "None\n"
     ]
    }
   ],
   "source": [
    "import math\n",
    "import time\n",
    "\n",
    "\n",
    "\n",
    "def calculate_time(func):\n",
    "    \n",
    "    def inner(*args, **kwargs):\n",
    "        start=time.time()\n",
    "        func(*args, **kwargs)\n",
    "        finish=time.time()\n",
    "        print(f\"function worked {finish-start} seconds\")\n",
    "\n",
    "    return inner\n",
    "\n",
    "@calculate_time\n",
    "def power(a,b):\n",
    "    print(math.pow(a,b))\n",
    "\n",
    "@calculate_time\n",
    "def factorial(number):\n",
    "    print(math.factorial(number))\n",
    "\n",
    "print(power(65,3))"
   ]
  },
  {
   "cell_type": "code",
   "execution_count": null,
   "metadata": {},
   "outputs": [],
   "source": []
  },
  {
   "cell_type": "code",
   "execution_count": null,
   "metadata": {},
   "outputs": [],
   "source": []
  }
 ],
 "metadata": {
  "kernelspec": {
   "display_name": "Python 3",
   "language": "python",
   "name": "python3"
  },
  "language_info": {
   "codemirror_mode": {
    "name": "ipython",
    "version": 3
   },
   "file_extension": ".py",
   "mimetype": "text/x-python",
   "name": "python",
   "nbconvert_exporter": "python",
   "pygments_lexer": "ipython3",
   "version": "3.11.4"
  },
  "orig_nbformat": 4
 },
 "nbformat": 4,
 "nbformat_minor": 2
}
