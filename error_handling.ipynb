{
 "cells": [
  {
   "cell_type": "code",
   "execution_count": null,
   "metadata": {},
   "outputs": [],
   "source": [
    "# print(a) = NameError\n",
    "\n",
    "# int(\"1m2\") = ValueError\n",
    "\n",
    "# print(12/0) = ZeroDivisionError\n",
    "\n",
    "# print(\"random strin\"g) = SyntaxError"
   ]
  },
  {
   "cell_type": "markdown",
   "metadata": {},
   "source": [
    "# ERROR HANDLING:\n",
    "### write possibly be incorrect code blocks inside \"try\"\n",
    "### write projected error after \"except\"\n",
    "### Exception is base class\n"
   ]
  },
  {
   "cell_type": "code",
   "execution_count": 6,
   "metadata": {},
   "outputs": [
    {
     "name": "stdout",
     "output_type": "stream",
     "text": [
      "A number can not be divided to 0\n"
     ]
    }
   ],
   "source": [
    "try:\n",
    "    x=int(input(\"enter the value of x: \"))\n",
    "    y=int(input(\"enter the value of y: \"))\n",
    "    print(x/y)\n",
    "except ZeroDivisionError:\n",
    "    print(\"A number can not be divided by 0\")\n",
    "except ValueError:\n",
    "    print(\"you must enter a number for both x and y\")\n"
   ]
  },
  {
   "cell_type": "code",
   "execution_count": 7,
   "metadata": {},
   "outputs": [
    {
     "name": "stdout",
     "output_type": "stream",
     "text": [
      "you entered wrong information\n"
     ]
    }
   ],
   "source": [
    "try:\n",
    "    x=int(input(\"enter the value of x: \"))\n",
    "    y=int(input(\"enter the value of y: \"))\n",
    "    print(x/y)\n",
    "except (ZeroDivisionError,ValueError):   # we can do the same operation for many errors\n",
    "    print(\"you entered wrong information\")\n"
   ]
  },
  {
   "cell_type": "code",
   "execution_count": 12,
   "metadata": {},
   "outputs": [
    {
     "name": "stdout",
     "output_type": "stream",
     "text": [
      "you entered wrong information\n",
      "division by zero\n"
     ]
    }
   ],
   "source": [
    "try:\n",
    "    x=int(input(\"enter the value of x: \"))\n",
    "    y=int(input(\"enter the value of y: \"))\n",
    "    print(x/y)\n",
    "\n",
    "except (ZeroDivisionError,ValueError) as ex :  # we can hold the error as an object.\n",
    "    print(\"you entered wrong information\")\n",
    "    print(ex)                                 # Also we can get the error object. So, we can learn the error\n",
    "\n",
    "else:\n",
    "    print(\"everything is alright.\")    # we can also add an else block to except. It works when except did not work\n"
   ]
  },
  {
   "cell_type": "code",
   "execution_count": 12,
   "metadata": {},
   "outputs": [
    {
     "name": "stdout",
     "output_type": "stream",
     "text": [
      "you entered wrong information\n",
      "division by zero\n"
     ]
    }
   ],
   "source": [
    "try:\n",
    "    x=int(input(\"enter the value of x: \"))\n",
    "    y=int(input(\"enter the value of y: \"))\n",
    "    print(x/y)\n",
    "\n",
    "except Exception as ex :    # we don't have to specify the kind of exception, Exception class does it for us. Also we can reach the exception itself by variable \"ex\"\n",
    "    print(\"you entered wrong information\")\n",
    "    print(ex)                                 \n",
    "\n",
    "else:\n",
    "    print(\"everything is alright.\") "
   ]
  },
  {
   "cell_type": "code",
   "execution_count": null,
   "metadata": {},
   "outputs": [],
   "source": [
    "while True:\n",
    "    try:\n",
    "        x=int(input(\"enter the value of x: \"))\n",
    "        y=int(input(\"enter the value of y: \"))\n",
    "        print(x/y)\n",
    "\n",
    "    except Exception as ex :    \n",
    "        print(\"you entered wrong information\")\n",
    "        print(ex)                                 \n",
    "\n",
    "    else:\n",
    "        break\n",
    "\n",
    "    finally:    # finally block works whether try- except block works or not\n",
    "        print(\"try- exception has finished.\")\n"
   ]
  },
  {
   "cell_type": "markdown",
   "metadata": {},
   "source": [
    "# Exception Raising:  creating error \n",
    "### we do it with \"raise\" keyword\n",
    "### \"raise\" creates an Exception object\n"
   ]
  },
  {
   "cell_type": "code",
   "execution_count": null,
   "metadata": {},
   "outputs": [],
   "source": [
    "x =10\n",
    "if x>5:\n",
    "    raise Exception(\"x can not be bigger than 5\") \n",
    "# exception itself is an object of Exception class"
   ]
  },
  {
   "cell_type": "code",
   "execution_count": 3,
   "metadata": {},
   "outputs": [
    {
     "name": "stdout",
     "output_type": "stream",
     "text": [
      "error: Denominator cannot be zero.\n"
     ]
    }
   ],
   "source": [
    "# an example:\n",
    "\n",
    "def divide(x, y):\n",
    "    if y == 0:\n",
    "        raise ValueError(\"Denominator cannot be zero.\")\n",
    "    return x / y\n",
    "\n",
    "try:\n",
    "    result = divide(10, 0)\n",
    "except ValueError as ve:\n",
    "    print(\"error:\", ve)\n",
    "\n"
   ]
  },
  {
   "cell_type": "markdown",
   "metadata": {},
   "source": [
    "# Regular Expression = regex (re):\n",
    "### it is a module which used on text manipulation"
   ]
  },
  {
   "cell_type": "code",
   "execution_count": 3,
   "metadata": {},
   "outputs": [],
   "source": [
    "def check_password(psw):\n",
    "    import re\n",
    "     \n",
    "    if len(psw)<8:\n",
    "        raise Exception(\"password must be 8 char length, at least\")\n",
    "    \n",
    "    elif not re.search(\"[a-z]\",psw):\n",
    "        raise Exception(\"password must contain lower case\")\n",
    "    \n",
    "    elif not re.search(\"[A-Z]\",psw):\n",
    "        raise Exception(\"password must contain upper case\")\n",
    "    \n",
    "    elif not re.search(\"[0-9]\",psw):\n",
    "        raise Exception(\"password must contain numbers\")\n",
    "    \n",
    "    elif not re.search(\"[_@$]\",psw):\n",
    "        raise Exception(\"password must contain alpha numeric char\")\n",
    "    elif  re.search(\"\\s\" , psw):\n",
    "        raise Exception(\"password must contain space\")\n",
    "    else:\n",
    "        print(\"password is valid.\")"
   ]
  },
  {
   "cell_type": "code",
   "execution_count": 11,
   "metadata": {},
   "outputs": [
    {
     "name": "stdout",
     "output_type": "stream",
     "text": [
      "password must be 8 char length, at least\n",
      "validation completed.\n"
     ]
    }
   ],
   "source": [
    "password=\"12345672aA@\"\n",
    "\n",
    "try:\n",
    "    check_password(password)\n",
    "except Exception as ex:\n",
    "    print(ex)\n",
    "\n",
    "finally:\n",
    "    print(\"validation completed.\")"
   ]
  },
  {
   "cell_type": "markdown",
   "metadata": {},
   "source": [
    "# Examples:"
   ]
  },
  {
   "cell_type": "code",
   "execution_count": 5,
   "metadata": {},
   "outputs": [
    {
     "name": "stdout",
     "output_type": "stream",
     "text": [
      "15\n",
      "45\n",
      "56\n",
      "12\n"
     ]
    }
   ],
   "source": [
    "# find elements consisting of only numbers in list\n",
    "\n",
    "my_list=[\"15\",\"54df\",\"45\",\"df5\",\"dff55\",\"fd\",\"56\",\"12\"]\n",
    "\n",
    "\n",
    "for e in my_list:\n",
    "    try:\n",
    "        result=int(e)    \n",
    "        print(e)\n",
    "    except ValueError:\n",
    "        continue"
   ]
  },
  {
   "cell_type": "code",
   "execution_count": 10,
   "metadata": {},
   "outputs": [
    {
     "name": "stdout",
     "output_type": "stream",
     "text": [
      "True!\n",
      "True!\n",
      "True!\n",
      "True!\n",
      "True!\n",
      "Have a good day!\n"
     ]
    }
   ],
   "source": [
    "# keep taking input unless user enters q and check if input is a number.\n",
    "# if input is not a number return an error message.\n",
    "\n",
    "while True:\n",
    "    message=input(\"Please enter number. To quit please type 'q' \")\n",
    "\n",
    "    if message==\"q\":\n",
    "        print(\"Have a good day!\")\n",
    "        break\n",
    "    else:\n",
    "        try:\n",
    "            message=int(message)\n",
    "            print(\"True!\")\n",
    "            continue\n",
    "        except ValueError:\n",
    "            print(\"Invalid.\")"
   ]
  },
  {
   "cell_type": "code",
   "execution_count": 24,
   "metadata": {},
   "outputs": [
    {
     "name": "stdout",
     "output_type": "stream",
     "text": [
      "It contains Turkish characters.\n"
     ]
    }
   ],
   "source": [
    "# define a method that raises Turkish character error\n",
    "\n",
    "import re\n",
    "def check_char():\n",
    "    psw=input(\"Enter your password: \")\n",
    "\n",
    "    try:\n",
    "        \n",
    "        if bool(re.search('[çÇğĞıİöÖşŞüÜ]',psw)):\n",
    "            # we have to turn it into bool. Cause re.search returnes an object\n",
    "            raise Exception(\"It contains Turkish characters.\")\n",
    "        else:\n",
    "            print(\"True!\")\n",
    "    except Exception as e :\n",
    "        print(e)\n",
    "\n",
    "check_char()\n",
    "    \n",
    "    "
   ]
  },
  {
   "cell_type": "code",
   "execution_count": 35,
   "metadata": {},
   "outputs": [
    {
     "name": "stdout",
     "output_type": "stream",
     "text": [
      "invalid literal for int() with base 10: 'yt'\n"
     ]
    }
   ],
   "source": [
    "# define a factorial method. If input containing invalid character, raise error\n",
    "def factorial():\n",
    "    \n",
    "    try:\n",
    "        number=(int(input(\"Enter the number: \")))\n",
    "        if number<0:\n",
    "            \n",
    "            raise Exception(\"Please enter a positive number\")\n",
    "\n",
    "        result=1\n",
    "        for i in range(1,number+1):\n",
    "            result*=i\n",
    "        print(f\"result= {result}\")\n",
    "\n",
    "    except ValueError as err:\n",
    "        print(err)\n",
    "    except  Exception as ex:\n",
    "        print(ex)\n",
    "\n",
    "factorial()\n",
    "\n",
    "\n"
   ]
  },
  {
   "cell_type": "code",
   "execution_count": null,
   "metadata": {},
   "outputs": [],
   "source": []
  },
  {
   "cell_type": "code",
   "execution_count": null,
   "metadata": {},
   "outputs": [],
   "source": []
  }
 ],
 "metadata": {
  "kernelspec": {
   "display_name": "Python 3",
   "language": "python",
   "name": "python3"
  },
  "language_info": {
   "codemirror_mode": {
    "name": "ipython",
    "version": 3
   },
   "file_extension": ".py",
   "mimetype": "text/x-python",
   "name": "python",
   "nbconvert_exporter": "python",
   "pygments_lexer": "ipython3",
   "version": "3.11.4"
  },
  "orig_nbformat": 4
 },
 "nbformat": 4,
 "nbformat_minor": 2
}
