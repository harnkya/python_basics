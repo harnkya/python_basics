{
 "cells": [
  {
   "cell_type": "markdown",
   "metadata": {},
   "source": [
    "# File Management:\n",
    "### To create a file or open an already existed file use open()\n",
    "### usage: open(file_name, function)\n",
    "\n",
    "## Functions:\n",
    "### \"w\" = (write) creates a file in location\n",
    "### deletes the file content and rewrites it\n",
    "\n",
    "### \"a\" =(append)  if file is not in location, creates\n",
    "\n",
    "### \"x\" = (create) gives error if file is exist in location\n",
    "### if there is not, creates the file\n",
    "\n",
    "### \"r\" = (read) gives error if file is not in location\n",
    "\n",
    "### encoding is a character coding type"
   ]
  },
  {
   "cell_type": "code",
   "execution_count": 2,
   "metadata": {},
   "outputs": [
    {
     "name": "stdout",
     "output_type": "stream",
     "text": [
      "<_io.TextIOWrapper name='new_file.txt' mode='w' encoding='cp1254'>\n"
     ]
    }
   ],
   "source": [
    "# creating a file at under the same folder\n",
    "file=open(\"new_file.txt\", \"w\") # creates an object\n",
    "print(file)\n",
    "file.close() # to save resources, we should close the file after open it."
   ]
  },
  {
   "cell_type": "code",
   "execution_count": 6,
   "metadata": {},
   "outputs": [
    {
     "name": "stdout",
     "output_type": "stream",
     "text": [
      "<_io.TextIOWrapper name='C:/Users/Harun/Desktop/new_file.txt' mode='w' encoding='cp1254'>\n"
     ]
    }
   ],
   "source": [
    "# creating a file at a location \n",
    "my_file=open(\"C:/Users/Harun/Desktop/new_file.txt\", \"w\")\n",
    "print(my_file)\n",
    "my_file.close()\n"
   ]
  },
  {
   "cell_type": "code",
   "execution_count": 9,
   "metadata": {},
   "outputs": [],
   "source": [
    "file=open(\"new_file.txt\",\"w\", encoding=\"utf-8\") # mark this line as comment and check the file again\n",
    "file.write(\"Harun Kaya\") \n",
    "file.close()\n"
   ]
  },
  {
   "cell_type": "code",
   "execution_count": 12,
   "metadata": {},
   "outputs": [],
   "source": [
    "file=open(\"new_file.txt\",\"a\", encoding=\"utf-8\")\n",
    "file.write(\" is twenty years old.\\n\") \n",
    "file.close()\n",
    "\n"
   ]
  },
  {
   "cell_type": "code",
   "execution_count": null,
   "metadata": {},
   "outputs": [],
   "source": [
    "file2=open(\"new_file2.txt\", \"x\") # creates a nonexisting file\n",
    "file2.close()    # if file is exist, gives error"
   ]
  },
  {
   "cell_type": "markdown",
   "metadata": {},
   "source": [
    "# Reading File"
   ]
  },
  {
   "cell_type": "code",
   "execution_count": 2,
   "metadata": {},
   "outputs": [],
   "source": [
    "file=open(\"new_file.txt\",\"r\") # file must be under the same folder"
   ]
  },
  {
   "cell_type": "code",
   "execution_count": 7,
   "metadata": {},
   "outputs": [
    {
     "name": "stdout",
     "output_type": "stream",
     "text": [
      "file is not exist\n"
     ]
    }
   ],
   "source": [
    "# opening a nonexisting file:\n",
    "\n",
    "try:\n",
    "    file3=open(\"nonexisting_file.txt\",\"r\")\n",
    "    print(file3)\n",
    "except FileNotFoundError:\n",
    "    print(\"file is not exist\")\n"
   ]
  },
  {
   "cell_type": "code",
   "execution_count": 19,
   "metadata": {},
   "outputs": [
    {
     "name": "stdout",
     "output_type": "stream",
     "text": [
      "Harun Kaya is twenty years old. is twenty years old. is twenty years old.\n",
      " is twenty years old.\n",
      " is twenty years old.\n",
      " is twenty years old.\n"
     ]
    }
   ],
   "source": [
    "file = open(\"new_file.txt\", \"r\", encoding=\"utf-8\")\n",
    "\n",
    "# reading file:\n",
    "# 1- with for loop: prints the lines\n",
    "\n",
    "for i in file:\n",
    "    print(i ,end=\"\") \n",
    "# print function adds an empty line after it worked.\n",
    "# end=\"\"  means do not add empty line\n",
    "\n",
    "\n"
   ]
  },
  {
   "cell_type": "code",
   "execution_count": 23,
   "metadata": {},
   "outputs": [
    {
     "name": "stdout",
     "output_type": "stream",
     "text": [
      "Harun Kaya is twenty years old. is twenty years old. is twenty years old.\n",
      " is twenty years old.\n",
      " is twenty years old.\n",
      " is twenty years old.\n",
      "\n",
      "empty line...\n",
      "\n"
     ]
    }
   ],
   "source": [
    "# 2 with read() function:\n",
    "file = open(\"new_file.txt\", \"r\", encoding=\"utf-8\")\n",
    "content=file.read()\n",
    "print(content)\n",
    "\n",
    "# look att the cursor's position\n",
    "print(\"empty line...\")\n",
    "\n",
    "content2=file.read()\n",
    "print(content2)\n",
    "file.close()\n",
    "\n",
    "# here, we can not reach the file content because after first reading \n",
    "# process copleted, cursor waits at the end of the file.\n",
    "# To read the file again: we have to close and open the file\n"
   ]
  },
  {
   "cell_type": "code",
   "execution_count": 3,
   "metadata": {},
   "outputs": [
    {
     "name": "stdout",
     "output_type": "stream",
     "text": [
      "Harun\n",
      " Ka\n"
     ]
    }
   ],
   "source": [
    "# restart kernell\n",
    "file = open(\"new_file.txt\", \"r\", encoding=\"utf-8\")\n",
    "\n",
    "content=file.read(5) # cursor reads first 5 character and waits there.\n",
    "print(content)\n",
    "content2=file.read(3) # cursor starts reading from its recent location here\n",
    "print(content2)\n",
    "file.close()\n"
   ]
  },
  {
   "cell_type": "code",
   "execution_count": 9,
   "metadata": {},
   "outputs": [
    {
     "name": "stdout",
     "output_type": "stream",
     "text": [
      "Harun Kaya is twenty years old. is twenty years old. is twenty years old.\n",
      "\n",
      "this is me\n",
      "I am Harun\n",
      " is twenty years old.\n"
     ]
    }
   ],
   "source": [
    "# readline() functions reads line by line\n",
    "file=open(\"new_file.txt\", \"r\", encoding=\"utf-8\")\n",
    "line=file.readline()\n",
    "print(line)\n",
    "print(file.readline(),end=\"\")\n",
    "print(file.readline(),end=\"\")\n",
    "print(file.readline(),end=\"\")\n",
    "file.close()"
   ]
  },
  {
   "cell_type": "code",
   "execution_count": 12,
   "metadata": {},
   "outputs": [
    {
     "name": "stdout",
     "output_type": "stream",
     "text": [
      "['Harun Kaya is twenty years old. is twenty years old. is twenty years old.\\n', 'this is me\\n', 'I am Harun\\n', ' is twenty years old.\\n']\n"
     ]
    }
   ],
   "source": [
    "# readlines() function: reads an creates a list\n",
    "file=open(\"new_file.txt\", \"r\", encoding=\"utf-8\")\n",
    "\n",
    "my_list=file.readlines()\n",
    "print(my_list)\n",
    "file.close()"
   ]
  },
  {
   "cell_type": "markdown",
   "metadata": {},
   "source": [
    "# with blocks:\n",
    "### at the end of the with block: file closes itself.\n",
    "### So, we don't have to use file.close() again.\n",
    "### .tell() method gives the recent location of cursor"
   ]
  },
  {
   "cell_type": "code",
   "execution_count": null,
   "metadata": {},
   "outputs": [],
   "source": [
    "with open(\"new_file.txt\",\"r\", encoding=\"utf-8\") as file:\n",
    "    # as file means hold the object's reference in a variable.\n",
    "    content=file.read()\n",
    "    print(content, end=\"\")\n",
    "    print(file.tell())\n",
    "    content2=file.read()\n",
    "    print(content2) # attention to this line\n",
    "    print(file.tell())\n"
   ]
  },
  {
   "cell_type": "markdown",
   "metadata": {},
   "source": [
    "# seek() function: \n",
    "### sends the cursor to given location\n",
    "### if you give a number to read(), it reads that much characters from its recent location"
   ]
  },
  {
   "cell_type": "code",
   "execution_count": 19,
   "metadata": {},
   "outputs": [
    {
     "name": "stdout",
     "output_type": "stream",
     "text": [
      "Harun Kaya is twenty years old. is twenty years old. is twenty years old.\n",
      "this is me\n",
      "I am Harun\n",
      " is twenty years old.\n",
      "122\n",
      "15\n",
      "wenty years old\n"
     ]
    }
   ],
   "source": [
    "\n",
    "with open(\"new_file.txt\",\"r\", encoding=\"utf-8\") as file:\n",
    "    content=file.read()\n",
    "    print(content, end=\"\")\n",
    "    print(file.tell())\n",
    "\n",
    "    file.seek(15)\n",
    "    print(file.tell())\n",
    "\n",
    "    content2=file.read(15) \n",
    "    print(content2) # attention to this line\n",
    "\n"
   ]
  },
  {
   "cell_type": "markdown",
   "metadata": {},
   "source": [
    "# Upgrading a File:\n"
   ]
  }
 ],
 "metadata": {
  "kernelspec": {
   "display_name": "Python 3",
   "language": "python",
   "name": "python3"
  },
  "language_info": {
   "codemirror_mode": {
    "name": "ipython",
    "version": 3
   },
   "file_extension": ".py",
   "mimetype": "text/x-python",
   "name": "python",
   "nbconvert_exporter": "python",
   "pygments_lexer": "ipython3",
   "version": "3.11.4"
  },
  "orig_nbformat": 4
 },
 "nbformat": 4,
 "nbformat_minor": 2
}
